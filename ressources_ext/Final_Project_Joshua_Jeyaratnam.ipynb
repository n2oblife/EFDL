{
  "cells": [
    {
      "cell_type": "markdown",
      "metadata": {
        "id": "GC5KzCAS3fb_"
      },
      "source": [
        "#Libraries imports"
      ]
    },
    {
      "cell_type": "code",
      "execution_count": null,
      "metadata": {
        "id": "fpuspFrSAYdi"
      },
      "outputs": [],
      "source": [
        "import numpy as np\n",
        "import torch\n",
        "from torchvision import transforms , datasets\n",
        "from torch . utils . data . sampler import SubsetRandomSampler\n",
        "import torch.nn.functional as F\n",
        "\n",
        "import torch.nn as nn "
      ]
    },
    {
      "cell_type": "markdown",
      "metadata": {
        "id": "eWYGr8BK-shC"
      },
      "source": [
        "# Data Normalization/Augmentation/Imports/Splitting"
      ]
    },
    {
      "cell_type": "markdown",
      "metadata": {
        "id": "IGlfMez5hx0r"
      },
      "source": [
        "Here we are gonna normalize and resize the image using parameters details in the ResNet paper \n",
        "\n",
        "A 224×224 crop is randomly sampled from images like detailed in the paper. "
      ]
    },
    {
      "cell_type": "code",
      "execution_count": null,
      "metadata": {
        "colab": {
          "base_uri": "https://localhost:8080/",
          "height": 172,
          "referenced_widgets": [
            "7e7884cf911f4822890bc91608504ef8",
            "29b235189c7d4538b5285e5c31170e63",
            "28213babf5574262bd32054f0dfc8365",
            "274aa92d732a4cbb80af0272f4e53429",
            "24d7fa4a0bd3438498d9786d85c50c25",
            "5d1574f6b28e4b598b945d356e59b085",
            "a11530002cb24961adc591d0d0d9de47",
            "82df95f09001466a9fcbe021aa6432aa",
            "d4ccee895893476f8b42db50cfa2865f",
            "7427f628f08549b483c63ca53e742efb",
            "262709fe05b142bd9e2849fb233e19c3",
            "897d9cfae07f41cfb13024a98018ba24",
            "bcb9934775bc4eefadc97d28b1cd9b16",
            "944fc9bff5aa4bf28a555e40b65aefee",
            "656c579475124fc9a3778fcb4de00b9b",
            "18255e5763e743e2b8d2f194a28ab12a",
            "0f8db144a2c54644af96af9690cf5425",
            "6215ac9779774949953035391e142240",
            "511640b6b42844dbadd8b1cd8c5b7eb3",
            "3276dcaa75044ed6bbf8c71cb60b06ae",
            "8f9175d6f2c54524b6f93619e13b61f3",
            "fedf876ec7db4f86a9433e1e7ca95169"
          ]
        },
        "id": "64qFybzLhzz8",
        "outputId": "4a32f322-bfe7-4c7a-b834-7567661fb08c"
      },
      "outputs": [
        {
          "name": "stdout",
          "output_type": "stream",
          "text": [
            "Downloading https://www.cs.toronto.edu/~kriz/cifar-10-python.tar.gz to ./ data/cifar-10-python.tar.gz\n"
          ]
        },
        {
          "data": {
            "application/vnd.jupyter.widget-view+json": {
              "model_id": "7e7884cf911f4822890bc91608504ef8",
              "version_major": 2,
              "version_minor": 0
            },
            "text/plain": [
              "  0%|          | 0/170498071 [00:00<?, ?it/s]"
            ]
          },
          "metadata": {},
          "output_type": "display_data"
        },
        {
          "name": "stdout",
          "output_type": "stream",
          "text": [
            "Extracting ./ data/cifar-10-python.tar.gz to ./ data\n",
            "Files already downloaded and verified\n",
            "Downloading https://www.cs.toronto.edu/~kriz/cifar-10-python.tar.gz to ./ data /cifar-10-python.tar.gz\n"
          ]
        },
        {
          "data": {
            "application/vnd.jupyter.widget-view+json": {
              "model_id": "897d9cfae07f41cfb13024a98018ba24",
              "version_major": 2,
              "version_minor": 0
            },
            "text/plain": [
              "  0%|          | 0/170498071 [00:00<?, ?it/s]"
            ]
          },
          "metadata": {},
          "output_type": "display_data"
        },
        {
          "name": "stdout",
          "output_type": "stream",
          "text": [
            "Extracting ./ data /cifar-10-python.tar.gz to ./ data \n"
          ]
        }
      ],
      "source": [
        "\n",
        "train_transform = transforms.Compose([ #resises the image so it can be perfect for our model.\n",
        "           transforms.Resize((224,224)),\n",
        "            transforms.ToTensor(), # convert the image to tensor so that it can work with torch\n",
        "            transforms.Normalize(mean=[0.4914, 0.4822, 0.4465],std=[0.2023, 0.1994, 0.2010]) #Normalize all the images\n",
        "            ])\n",
        "val_transform = transforms . Compose ([ \n",
        "           transforms.Resize((224,224)),\n",
        "            transforms.ToTensor(), \n",
        "            transforms.Normalize(mean=[0.4914, 0.4822, 0.4465],std=[0.2023, 0.1994, 0.2010])\n",
        "            ])\n",
        "test_transform = transforms . Compose (\n",
        "[ transforms.Resize((224,224)),\n",
        "            transforms.ToTensor(), \n",
        "            transforms.Normalize(mean=[0.4914, 0.4822, 0.4465],std=[0.2023, 0.1994, 0.2010])\n",
        "            ])\n",
        "batch_size = 256\n",
        "trainset = datasets . CIFAR10 ( root ='./ data' , train =True ,\n",
        "download =True ,transform = train_transform )\n",
        "valset = datasets . CIFAR10 ( root ='./ data', train =True ,\n",
        "download =True ,\n",
        "transform = val_transform )\n",
        "testset = datasets . CIFAR10 ( root ='./ data ', train =False ,\n",
        "download =True ,\n",
        "transform = test_transform )\n",
        "classes = ('plane', 'car', 'bird', 'cat',\n",
        "'deer', 'dog', 'frog', 'horse', 'ship', 'truck')\n",
        "\n",
        "# Indices for train /val splits : train_idx , valid_idx\n",
        "np . random.seed ( 0 )\n",
        "val_ratio = 0.1\n",
        "train_size = len( trainset )\n",
        "indices = list ( range ( train_size ) )\n",
        "split_idx = int( np . floor ( val_ratio * train_size ) )\n",
        "np . random . shuffle ( indices )\n",
        "train_idx , val_idx = indices [ split_idx :], indices [: split_idx ]\n",
        "train_sampler = SubsetRandomSampler ( train_idx )\n",
        "val_sampler = SubsetRandomSampler ( val_idx )\n",
        "train_loader = torch.utils.data.DataLoader ( trainset , batch_size = batch_size ,\n",
        "sampler = train_sampler ,\n",
        "num_workers =2 )\n",
        "val_loader = torch . utils . data . DataLoader ( valset , batch_size = batch_size ,\n",
        "sampler = val_sampler ,\n",
        "num_workers =2 )\n",
        "test_loader = torch . utils . data . DataLoader ( testset , batch_size = batch_size ,\n",
        "shuffle =False , num_workers =2)"
      ]
    },
    {
      "cell_type": "markdown",
      "metadata": {
        "id": "LjW7BdWm-14e"
      },
      "source": [
        "# Model Implementation"
      ]
    },
    {
      "cell_type": "markdown",
      "metadata": {
        "id": "jFAC41iy-02u"
      },
      "source": [
        "## ResidualBlockNetwork"
      ]
    },
    {
      "cell_type": "markdown",
      "metadata": {
        "id": "UqIVGJXXh3Ir"
      },
      "source": [
        "Here we Instanciate the ResidualBlock of for our ResNet network. \n",
        "\n",
        "Residual Network : We\n",
        "insert shortcut connections which turn the\n",
        "network into its counterpart residual version. The identity\n",
        "shortcuts can be directly used when the input and\n",
        "output are of the same dimensions . When the dimensions increase , we consider two options: (A) The shortcut still\n",
        "performs identity mapping, with extra zero entries padded\n",
        "for increasing dimensions. This option introduces no extra\n",
        "parameter; (B) The projection shortcut is used to\n",
        "match dimensions (done by 1×1 convolutions). For both\n",
        "options, when the shortcuts go across feature maps of two\n",
        "sizes, they are performed with a stride of 2.\n"
      ]
    },
    {
      "cell_type": "code",
      "execution_count": null,
      "metadata": {
        "id": "yamieP04h3SU"
      },
      "outputs": [],
      "source": [
        "class ResidualBlock(nn.Module):\n",
        "\t\n",
        "    def __init__(self, in_p, out_p, stride=1):\n",
        "        super(ResidualBlock, self).__init__()\n",
        "        \n",
        "        self.conv1 = nn.Conv2d(in_p, out_p, kernel_size=3, stride=stride, padding=1, bias=False)\n",
        "        self.batchnorm1 = nn.BatchNorm2d(out_p)\n",
        "        \n",
        "        self.conv2 = nn.Conv2d(out_p, out_p, kernel_size=3, stride=1, padding=1, bias=False)\n",
        "        self.batchnorm2 = nn.BatchNorm2d(out_p)\n",
        "      \n",
        "        self.shortcut = nn.Sequential()\n",
        "       \n",
        "        if stride != 1: \n",
        "            self.shortcut = nn.Sequential(\n",
        "                nn.Conv2d(in_p, out_p, kernel_size=1, stride=stride, bias=False),\n",
        "                nn.BatchNorm2d(out_p)\n",
        "            )\n",
        "    \n",
        "    def forward(self, x):\n",
        "        x = self.conv1(x)\n",
        "        x = self.batchnorm1(x)\n",
        "        x = F.relu(x)\n",
        "        x = self.conv2(x)\n",
        "        x = self.batchnorm2(x)\n",
        "        x += self.shortcut(x) \n",
        "        x = F.relu(x)\n",
        "        return x\n"
      ]
    },
    {
      "cell_type": "markdown",
      "metadata": {
        "id": "hX4V_CsJ_CeV"
      },
      "source": [
        "## ResNet Model Implementation"
      ]
    },
    {
      "cell_type": "markdown",
      "metadata": {
        "id": "YsBeOM9jh-07"
      },
      "source": [
        "We instanciate our ResNet model that can be applicable for the ResNet 20 and 34"
      ]
    },
    {
      "cell_type": "code",
      "execution_count": null,
      "metadata": {
        "id": "3hiyK7Wjh-9-"
      },
      "outputs": [],
      "source": [
        "class ResNet(nn.Module):\n",
        "    def __init__(self, block, layers, num_classes = 10):\n",
        "        super(ResNet, self).__init__()\n",
        "        self.in_p = 64\n",
        "        self.conv1 = nn.Sequential(\n",
        "                        nn.Conv2d(3, 64, kernel_size = 7, stride = 2, padding = 3),\n",
        "                        nn.BatchNorm2d(64),\n",
        "                        nn.ReLU())\n",
        "        self.maxpool = nn.MaxPool2d(kernel_size = 3, stride = 2, padding = 1)\n",
        "        self.layer0 = self._make_layer(block, 64, layers[0], stride = 1)\n",
        "        self.layer1 = self._make_layer(block, 128, layers[1], stride = 2)\n",
        "        self.layer2 = self._make_layer(block, 256, layers[2], stride = 2)\n",
        "        self.layer3 = self._make_layer(block, 512, layers[3], stride = 2)\n",
        "        self.avgpool = nn.AvgPool2d(7, stride=1)\n",
        "        self.fc = nn.Linear(512, num_classes)\n",
        "        \n",
        "    def _make_layer(self, block, planes, blocks, stride=1):\n",
        "        downsample = None\n",
        "        if stride != 1 or self.in_p != planes:\n",
        "            \n",
        "            downsample = nn.Sequential(\n",
        "                nn.Conv2d(self.in_p, planes, kernel_size=1, stride=stride),\n",
        "                nn.BatchNorm2d(planes),\n",
        "            )\n",
        "        layers = []\n",
        "        layers.append(block(self.in_p, planes, stride))\n",
        "        self.in_p = planes\n",
        "        for i in range(1, blocks):\n",
        "            layers.append(block(self.in_p, planes))\n",
        "\n",
        "        return nn.Sequential(*layers)\n",
        "    \n",
        "    \n",
        "    def forward(self, x):\n",
        "        x = self.conv1(x)\n",
        "        x = self.maxpool(x)\n",
        "\n",
        "        x = self.layer0(x)\n",
        "        x = self.layer1(x)\n",
        "        x = self.layer2(x)\n",
        "        x = self.layer3(x)\n",
        "        x = self.avgpool(x)\n",
        "        \n",
        "        x = x.view(x.size(0), -1)\n",
        "        x = self.fc(x)\n",
        "\n",
        "        return x"
      ]
    },
    {
      "cell_type": "markdown",
      "metadata": {
        "id": "3GiyW7JViCID"
      },
      "source": [
        "# Training"
      ]
    },
    {
      "cell_type": "code",
      "execution_count": null,
      "metadata": {
        "id": "bBNZNxvCiCQ0"
      },
      "outputs": [],
      "source": [
        "# Device configuration\n",
        "device = torch.device('cuda' if torch.cuda.is_available() else 'cpu')"
      ]
    },
    {
      "cell_type": "markdown",
      "metadata": {
        "id": "4HF8OH14iEjN"
      },
      "source": [
        "We\n",
        "use a weight decay of 0.0001 and a momentum of 0.9. We\n",
        "do not use dropout; For best results, we adopt the fullyconvolutional form as in and average the scores\n",
        "at multiple scales (images are resized such that the shorter\n",
        "side is in {224, 256, 384, 480, 640}). We initialize the weights\n",
        " and train all residual nets from scratch. We\n",
        "use SGD with a mini-batch size of 256.\n",
        "We adopt batch\n",
        "normalization (BN) right after each convolution and\n",
        "before activation function.\n"
      ]
    },
    {
      "cell_type": "code",
      "execution_count": null,
      "metadata": {
        "id": "bQOXUL-SiEpS"
      },
      "outputs": [],
      "source": [
        "nb_of_epochs = 10\n",
        "batch_size = 256\n",
        "learning_rate = 0.01\n",
        "\n",
        "model = ResNet(ResidualBlock,  [2, 2, 2, 2]).to(device)\n",
        "\n",
        "# Loss and optimizer\n",
        "loss_function = nn.CrossEntropyLoss()\n",
        "optimizer = torch.optim.SGD(model.parameters(), lr=learning_rate, weight_decay = 0.0001, momentum = 0.9)  \n",
        "\n",
        "# Train the model\n",
        "total_step = len(train_loader)"
      ]
    },
    {
      "cell_type": "markdown",
      "metadata": {
        "id": "HKb9Y1jDiJKb"
      },
      "source": [
        "We train and evaluate our model for each epochs using the validation dataset. "
      ]
    },
    {
      "cell_type": "code",
      "execution_count": null,
      "metadata": {
        "colab": {
          "base_uri": "https://localhost:8080/"
        },
        "id": "vwjXZLaRiJVj",
        "outputId": "9c0a936a-c876-494c-f4ab-6d9336e0c954"
      },
      "outputs": [
        {
          "name": "stdout",
          "output_type": "stream",
          "text": [
            "Epoch [1/10 ] loss : 0.6212520003318787\n",
            "Validation Loss :  0.00296  Validation Accuracy :  74.8799979686737\n",
            "Epoch [2/10 ] loss : 0.48123499751091003\n",
            "Validation Loss :  0.00369  Validation Accuracy :  71.37999534606934\n",
            "Epoch [3/10 ] loss : 0.39158013463020325\n",
            "Validation Loss :  0.0034  Validation Accuracy :  74.61999654769897\n",
            "Epoch [4/10 ] loss : 0.25923049449920654\n",
            "Validation Loss :  0.00345  Validation Accuracy :  75.25999546051025\n",
            "Epoch [5/10 ] loss : 0.1331242471933365\n",
            "Validation Loss :  0.00315  Validation Accuracy :  78.07999849319458\n",
            "Epoch [6/10 ] loss : 0.1468190997838974\n",
            "Validation Loss :  0.00335  Validation Accuracy :  76.69999599456787\n",
            "Epoch [7/10 ] loss : 0.036798883229494095\n",
            "Validation Loss :  0.00285  Validation Accuracy :  80.47999739646912\n",
            "Epoch [8/10 ] loss : 0.011829700320959091\n",
            "Validation Loss :  0.00233  Validation Accuracy :  83.67999792098999\n",
            "Epoch [9/10 ] loss : 0.0036670302506536245\n",
            "Validation Loss :  0.00215  Validation Accuracy :  84.8800003528595\n",
            "Epoch [10/10 ] loss : 0.0017607039771974087\n",
            "Validation Loss :  0.00201  Validation Accuracy :  85.87999939918518\n"
          ]
        }
      ],
      "source": [
        "total_step = len(train_loader)\n",
        "\n",
        "for epoch in range(nb_of_epochs):\n",
        "    model.train()\n",
        "    for i, (train, target) in enumerate(train_loader):  \n",
        "        # We use the GPU to run the code. We set datasets to use GPU for all type of computational tasks\n",
        "        train = train.to(device)\n",
        "        target_values = target.to(device)\n",
        "        \n",
        "        # We train our model here using the forward function\n",
        "        outputs = model(train)\n",
        "        # We calculate the loss\n",
        "        loss = loss_function(outputs, target_values)\n",
        "        \n",
        "        # Backward and optimize\n",
        "        optimizer.zero_grad()\n",
        "        loss.backward()\n",
        "        optimizer.step()\n",
        "       \n",
        "        torch.cuda.empty_cache()\n",
        "\n",
        "    print (\"Epoch [\" + str(epoch+1) +\"/\" + str(nb_of_epochs) +\" ] loss : \" + str(loss.item()))\n",
        "            \n",
        "    # Validation\n",
        "    model.eval()\n",
        "    with torch.no_grad():\n",
        "        correct = 0\n",
        "        total = 0\n",
        "        pred = torch.empty(0).to(device)\n",
        "        val_loss = 0\n",
        "        target_values = torch.empty(0).to(device)\n",
        "        for val, target in val_loader:\n",
        "            val = val.to(device)\n",
        "            target = target.to(device)\n",
        "            outputs = model(val)\n",
        "            _, prediction = torch.max(outputs.data, 1)\n",
        "\n",
        "            loss = loss_function(outputs,target)\n",
        "            val_loss+=loss.detach()\n",
        "\n",
        "            pred = torch.cat((pred,prediction),0)\n",
        "            target_values = torch.cat((target_values,target),0)\n",
        "\n",
        "        val_loss = val_loss/len(target_values)\n",
        "        accuracy = torch.sum(pred == target_values)\n",
        "        accuracy2 = (float(accuracy / len(target_values))*100)\n",
        "        print(\"Validation Loss : \", str(round(float(val_loss),5)),\" Validation Accuracy : \", accuracy2)"
      ]
    },
    {
      "cell_type": "markdown",
      "metadata": {
        "id": "IOyQp1xHj0j7"
      },
      "source": [
        "We can see that the Validation Accuracy is up to 86%. We can assume that maybe the model can have a better accuracy with more epochs but it takes times to run a model more that 40 epochs. "
      ]
    },
    {
      "cell_type": "markdown",
      "metadata": {
        "id": "EoQgSk8Tj0uz"
      },
      "source": [
        "# Test experiments"
      ]
    },
    {
      "cell_type": "markdown",
      "metadata": {
        "id": "uB6lvCAWnnoX"
      },
      "source": [
        "Test results"
      ]
    },
    {
      "cell_type": "code",
      "execution_count": null,
      "metadata": {
        "colab": {
          "base_uri": "https://localhost:8080/"
        },
        "id": "_HcPfYSLk3d3",
        "outputId": "a0b5a913-ef0c-4b28-e8d2-715966c7d613"
      },
      "outputs": [
        {
          "name": "stdout",
          "output_type": "stream",
          "text": [
            "Test Loss :  0.00218  Test Accuracy :  84.82999801635742\n"
          ]
        }
      ],
      "source": [
        "# Validation\n",
        "with torch.no_grad():\n",
        "        pred = torch.empty(0).to(device)\n",
        "        test_loss = 0\n",
        "        target_values = torch.empty(0).to(device)\n",
        "        for test, target in test_loader:\n",
        "            test = test.to(device)\n",
        "            target = target.to(device)\n",
        "            outputs = model(test)\n",
        "            _, predicted = torch.max(outputs.data, 1)\n",
        "\n",
        "            loss = loss_function(outputs,target)\n",
        "            test_loss+=loss.detach()\n",
        "            pred = torch.cat((pred,predicted),0).to(device)\n",
        "            target_values = torch.cat((target_values,target),0).to(device)\n",
        "\n",
        "        test_loss = test_loss/len(target_values)\n",
        "        accuracy = torch.sum(pred == target_values)\n",
        "        accuracy2 = (float(accuracy / len(target_values))*100)\n",
        "        print(\"Test Loss : \", str(round(float(test_loss),5)),\" Test Accuracy : \", accuracy2)"
      ]
    },
    {
      "cell_type": "markdown",
      "metadata": {
        "id": "OtOgSuz2IVSX"
      },
      "source": [
        "#Final Results : accuracy of 85% for the test set with the ResNet-20"
      ]
    },
    {
      "cell_type": "markdown",
      "metadata": {
        "id": "K3XLYcwz1u6F"
      },
      "source": [
        "Finally we have an accuracy of 85% for the test set with the ResNet-20 "
      ]
    },
    {
      "cell_type": "markdown",
      "metadata": {
        "id": "xE-e4egJCNqY"
      },
      "source": [
        "Let's detailed the whole process to get an test accuracy higher than 80%. First in the previous assignment we achieved an 58% accuracy without optimization either hyperparameter tunning. \n",
        "\n",
        "First of all we resize the image 224x224 according to the ResNet paper. We also normalize our 3 datasets using mean and standard deviation. After we build the Residual Block that will be using in our ResNet-20 model. We use this residual bloc because  if we keep increasing the number of layers, we will see that the accuracy will saturate at one point and eventually degrade. And, this is usually not caused due to overfitting. We skip the training of few layers using skip connections or residual connections. The layers in a traditional network are learning the true output (H(x)), whereas the layers in a residual network are learning the residual (R(x)). Where : R(x) = Output — Input = H(x) — x. The residual block is composed of two convolution layer followed by batch normalization.  We\n",
        "insert shortcut connections which turn the\n",
        "network into its counterpart residual version. The identity\n",
        "shortcuts can be directly used when the input and\n",
        "output are of the same dimensions. When the dimensions increase,  we consider two options: \n",
        "- The shortcut still\n",
        "performs identity mapping, with extra zero entries padded\n",
        "for increasing dimensions. This option introduces no extra\n",
        "parameter\n",
        "- The projection shortcut is used to\n",
        "match dimensions (done by 1×1 convolutions). They are performed with a stride of 2.\n",
        "\n",
        "Afterwards we move to our ResNet-20 model. We initialize the weights\n",
        "and residual nets from scratch. We\n",
        "use SGD with a mini-batch size of 256. The learning rate\n",
        "starts from 0.1. We\n",
        "use a weight decay of 0.0001 and a momentum of 0.9. We\n",
        "do not use dropout. The Resnet is composed of 20 layers.We first instanciate an sequence with convolution layer,batch norm, relu as activation and a max pool layer.Followed by layers of 2 x 64,128,256,512 of convolution layers each conv layer followed by batch norm and at the end the avg pool detailed in the ResNet Paper and a Fully connected layer that will shows probability for each class. \n",
        "\n",
        "We generate layers using function that build the resenet classifier using residual block to skip some connections. \n",
        "\n",
        "Then we train the model with 10 epochs and for each epoch we evaluate our model with loss_validation and validation accuracy. We found a final accuracy of 86% for the validation data set. \n",
        "\n",
        "We try the model on the test set and we found a final test accuracy of 85%. Thanks to the training part and the ResNet model we have perform an experiment that leads to an accuracy that is higher than 80%. \n",
        "\n",
        "I tried to tune the hyperparemeters but it is time and GPU consuming. "
      ]
    },
    {
      "cell_type": "code",
      "execution_count": null,
      "metadata": {
        "id": "sdmiFF6yIUM5"
      },
      "outputs": [],
      "source": [
        "epochs = [i for i in range(1,11)]\n",
        "train_loss = [0.03679,0.01182,0.00366,0.001760]\n",
        "train_acc = [75,76.3,76,80,82,82,84,84.6,85,88]\n",
        "\n",
        "\n",
        "\n",
        "val_loss = [ 0.00285,0.00233, 0.00215,0.00201]\n",
        "\n",
        "val_acc = [74.8,71.3,74.619,75.259,78.0799,76.699,80.479,83.679,84.880, 85.8799]"
      ]
    },
    {
      "cell_type": "markdown",
      "metadata": {
        "id": "f0JrcAAUo-4Q"
      },
      "source": []
    },
    {
      "cell_type": "code",
      "execution_count": null,
      "metadata": {
        "id": "Tts4oeohp8w5"
      },
      "outputs": [],
      "source": [
        "import matplotlib.pyplot as plt"
      ]
    },
    {
      "cell_type": "code",
      "execution_count": null,
      "metadata": {
        "colab": {
          "base_uri": "https://localhost:8080/",
          "height": 279
        },
        "id": "h8vLs0Dco_BX",
        "outputId": "21c2a5c1-0d5c-4086-c5e7-4f359022b4fb"
      },
      "outputs": [
        {
          "data": {
            "image/png": "[encoded data removed]",
            "text/plain": [
              "<Figure size 432x288 with 1 Axes>"
            ]
          },
          "metadata": {
            "needs_background": "light"
          },
          "output_type": "display_data"
        }
      ],
      "source": [
        "plt.plot(epochs,train_acc)\n",
        "plt.plot(epochs,val_acc)\n",
        "plt.xlabel(\"epochs\")\n",
        "plt.ylabel(\"loss\")\n",
        "plt.legend(['Train acc', 'Validataion acc'])\n",
        "plt.show()"
      ]
    },
    {
      "cell_type": "code",
      "execution_count": null,
      "metadata": {
        "id": "Fm2gMZFwp7Oz"
      },
      "outputs": [],
      "source": []
    }
  ],
  "metadata": {
    "accelerator": "GPU",
    "colab": {
      "provenance": []
    },
    "kernelspec": {
      "display_name": "Python 3",
      "name": "python3"
    },
    "language_info": {
      "name": "python"
    },
    "widgets": {
      "application/vnd.jupyter.widget-state+json": {
        "0f8db144a2c54644af96af9690cf5425": {
          "model_module": "@jupyter-widgets/base",
          "model_module_version": "1.2.0",
          "model_name": "LayoutModel",
          "state": {
            "_model_module": "@jupyter-widgets/base",
            "_model_module_version": "1.2.0",
            "_model_name": "LayoutModel",
            "_view_count": null,
            "_view_module": "@jupyter-widgets/base",
            "_view_module_version": "1.2.0",
            "_view_name": "LayoutView",
            "align_content": null,
            "align_items": null,
            "align_self": null,
            "border": null,
            "bottom": null,
            "display": null,
            "flex": null,
            "flex_flow": null,
            "grid_area": null,
            "grid_auto_columns": null,
            "grid_auto_flow": null,
            "grid_auto_rows": null,
            "grid_column": null,
            "grid_gap": null,
            "grid_row": null,
            "grid_template_areas": null,
            "grid_template_columns": null,
            "grid_template_rows": null,
            "height": null,
            "justify_content": null,
            "justify_items": null,
            "left": null,
            "margin": null,
            "max_height": null,
            "max_width": null,
            "min_height": null,
            "min_width": null,
            "object_fit": null,
            "object_position": null,
            "order": null,
            "overflow": null,
            "overflow_x": null,
            "overflow_y": null,
            "padding": null,
            "right": null,
            "top": null,
            "visibility": null,
            "width": null
          }
        },
        "18255e5763e743e2b8d2f194a28ab12a": {
          "model_module": "@jupyter-widgets/base",
          "model_module_version": "1.2.0",
          "model_name": "LayoutModel",
          "state": {
            "_model_module": "@jupyter-widgets/base",
            "_model_module_version": "1.2.0",
            "_model_name": "LayoutModel",
            "_view_count": null,
            "_view_module": "@jupyter-widgets/base",
            "_view_module_version": "1.2.0",
            "_view_name": "LayoutView",
            "align_content": null,
            "align_items": null,
            "align_self": null,
            "border": null,
            "bottom": null,
            "display": null,
            "flex": null,
            "flex_flow": null,
            "grid_area": null,
            "grid_auto_columns": null,
            "grid_auto_flow": null,
            "grid_auto_rows": null,
            "grid_column": null,
            "grid_gap": null,
            "grid_row": null,
            "grid_template_areas": null,
            "grid_template_columns": null,
            "grid_template_rows": null,
            "height": null,
            "justify_content": null,
            "justify_items": null,
            "left": null,
            "margin": null,
            "max_height": null,
            "max_width": null,
            "min_height": null,
            "min_width": null,
            "object_fit": null,
            "object_position": null,
            "order": null,
            "overflow": null,
            "overflow_x": null,
            "overflow_y": null,
            "padding": null,
            "right": null,
            "top": null,
            "visibility": null,
            "width": null
          }
        },
        "24d7fa4a0bd3438498d9786d85c50c25": {
          "model_module": "@jupyter-widgets/base",
          "model_module_version": "1.2.0",
          "model_name": "LayoutModel",
          "state": {
            "_model_module": "@jupyter-widgets/base",
            "_model_module_version": "1.2.0",
            "_model_name": "LayoutModel",
            "_view_count": null,
            "_view_module": "@jupyter-widgets/base",
            "_view_module_version": "1.2.0",
            "_view_name": "LayoutView",
            "align_content": null,
            "align_items": null,
            "align_self": null,
            "border": null,
            "bottom": null,
            "display": null,
            "flex": null,
            "flex_flow": null,
            "grid_area": null,
            "grid_auto_columns": null,
            "grid_auto_flow": null,
            "grid_auto_rows": null,
            "grid_column": null,
            "grid_gap": null,
            "grid_row": null,
            "grid_template_areas": null,
            "grid_template_columns": null,
            "grid_template_rows": null,
            "height": null,
            "justify_content": null,
            "justify_items": null,
            "left": null,
            "margin": null,
            "max_height": null,
            "max_width": null,
            "min_height": null,
            "min_width": null,
            "object_fit": null,
            "object_position": null,
            "order": null,
            "overflow": null,
            "overflow_x": null,
            "overflow_y": null,
            "padding": null,
            "right": null,
            "top": null,
            "visibility": null,
            "width": null
          }
        },
        "262709fe05b142bd9e2849fb233e19c3": {
          "model_module": "@jupyter-widgets/controls",
          "model_module_version": "1.5.0",
          "model_name": "DescriptionStyleModel",
          "state": {
            "_model_module": "@jupyter-widgets/controls",
            "_model_module_version": "1.5.0",
            "_model_name": "DescriptionStyleModel",
            "_view_count": null,
            "_view_module": "@jupyter-widgets/base",
            "_view_module_version": "1.2.0",
            "_view_name": "StyleView",
            "description_width": ""
          }
        },
        "274aa92d732a4cbb80af0272f4e53429": {
          "model_module": "@jupyter-widgets/controls",
          "model_module_version": "1.5.0",
          "model_name": "HTMLModel",
          "state": {
            "_dom_classes": [],
            "_model_module": "@jupyter-widgets/controls",
            "_model_module_version": "1.5.0",
            "_model_name": "HTMLModel",
            "_view_count": null,
            "_view_module": "@jupyter-widgets/controls",
            "_view_module_version": "1.5.0",
            "_view_name": "HTMLView",
            "description": "",
            "description_tooltip": null,
            "layout": "IPY_MODEL_7427f628f08549b483c63ca53e742efb",
            "placeholder": "​",
            "style": "IPY_MODEL_262709fe05b142bd9e2849fb233e19c3",
            "value": " 170498071/170498071 [00:13&lt;00:00, 14845500.65it/s]"
          }
        },
        "28213babf5574262bd32054f0dfc8365": {
          "model_module": "@jupyter-widgets/controls",
          "model_module_version": "1.5.0",
          "model_name": "FloatProgressModel",
          "state": {
            "_dom_classes": [],
            "_model_module": "@jupyter-widgets/controls",
            "_model_module_version": "1.5.0",
            "_model_name": "FloatProgressModel",
            "_view_count": null,
            "_view_module": "@jupyter-widgets/controls",
            "_view_module_version": "1.5.0",
            "_view_name": "ProgressView",
            "bar_style": "success",
            "description": "",
            "description_tooltip": null,
            "layout": "IPY_MODEL_82df95f09001466a9fcbe021aa6432aa",
            "max": 170498071,
            "min": 0,
            "orientation": "horizontal",
            "style": "IPY_MODEL_d4ccee895893476f8b42db50cfa2865f",
            "value": 170498071
          }
        },
        "29b235189c7d4538b5285e5c31170e63": {
          "model_module": "@jupyter-widgets/controls",
          "model_module_version": "1.5.0",
          "model_name": "HTMLModel",
          "state": {
            "_dom_classes": [],
            "_model_module": "@jupyter-widgets/controls",
            "_model_module_version": "1.5.0",
            "_model_name": "HTMLModel",
            "_view_count": null,
            "_view_module": "@jupyter-widgets/controls",
            "_view_module_version": "1.5.0",
            "_view_name": "HTMLView",
            "description": "",
            "description_tooltip": null,
            "layout": "IPY_MODEL_5d1574f6b28e4b598b945d356e59b085",
            "placeholder": "​",
            "style": "IPY_MODEL_a11530002cb24961adc591d0d0d9de47",
            "value": "100%"
          }
        },
        "3276dcaa75044ed6bbf8c71cb60b06ae": {
          "model_module": "@jupyter-widgets/controls",
          "model_module_version": "1.5.0",
          "model_name": "ProgressStyleModel",
          "state": {
            "_model_module": "@jupyter-widgets/controls",
            "_model_module_version": "1.5.0",
            "_model_name": "ProgressStyleModel",
            "_view_count": null,
            "_view_module": "@jupyter-widgets/base",
            "_view_module_version": "1.2.0",
            "_view_name": "StyleView",
            "bar_color": null,
            "description_width": ""
          }
        },
        "511640b6b42844dbadd8b1cd8c5b7eb3": {
          "model_module": "@jupyter-widgets/base",
          "model_module_version": "1.2.0",
          "model_name": "LayoutModel",
          "state": {
            "_model_module": "@jupyter-widgets/base",
            "_model_module_version": "1.2.0",
            "_model_name": "LayoutModel",
            "_view_count": null,
            "_view_module": "@jupyter-widgets/base",
            "_view_module_version": "1.2.0",
            "_view_name": "LayoutView",
            "align_content": null,
            "align_items": null,
            "align_self": null,
            "border": null,
            "bottom": null,
            "display": null,
            "flex": null,
            "flex_flow": null,
            "grid_area": null,
            "grid_auto_columns": null,
            "grid_auto_flow": null,
            "grid_auto_rows": null,
            "grid_column": null,
            "grid_gap": null,
            "grid_row": null,
            "grid_template_areas": null,
            "grid_template_columns": null,
            "grid_template_rows": null,
            "height": null,
            "justify_content": null,
            "justify_items": null,
            "left": null,
            "margin": null,
            "max_height": null,
            "max_width": null,
            "min_height": null,
            "min_width": null,
            "object_fit": null,
            "object_position": null,
            "order": null,
            "overflow": null,
            "overflow_x": null,
            "overflow_y": null,
            "padding": null,
            "right": null,
            "top": null,
            "visibility": null,
            "width": null
          }
        },
        "5d1574f6b28e4b598b945d356e59b085": {
          "model_module": "@jupyter-widgets/base",
          "model_module_version": "1.2.0",
          "model_name": "LayoutModel",
          "state": {
            "_model_module": "@jupyter-widgets/base",
            "_model_module_version": "1.2.0",
            "_model_name": "LayoutModel",
            "_view_count": null,
            "_view_module": "@jupyter-widgets/base",
            "_view_module_version": "1.2.0",
            "_view_name": "LayoutView",
            "align_content": null,
            "align_items": null,
            "align_self": null,
            "border": null,
            "bottom": null,
            "display": null,
            "flex": null,
            "flex_flow": null,
            "grid_area": null,
            "grid_auto_columns": null,
            "grid_auto_flow": null,
            "grid_auto_rows": null,
            "grid_column": null,
            "grid_gap": null,
            "grid_row": null,
            "grid_template_areas": null,
            "grid_template_columns": null,
            "grid_template_rows": null,
            "height": null,
            "justify_content": null,
            "justify_items": null,
            "left": null,
            "margin": null,
            "max_height": null,
            "max_width": null,
            "min_height": null,
            "min_width": null,
            "object_fit": null,
            "object_position": null,
            "order": null,
            "overflow": null,
            "overflow_x": null,
            "overflow_y": null,
            "padding": null,
            "right": null,
            "top": null,
            "visibility": null,
            "width": null
          }
        },
        "6215ac9779774949953035391e142240": {
          "model_module": "@jupyter-widgets/controls",
          "model_module_version": "1.5.0",
          "model_name": "DescriptionStyleModel",
          "state": {
            "_model_module": "@jupyter-widgets/controls",
            "_model_module_version": "1.5.0",
            "_model_name": "DescriptionStyleModel",
            "_view_count": null,
            "_view_module": "@jupyter-widgets/base",
            "_view_module_version": "1.2.0",
            "_view_name": "StyleView",
            "description_width": ""
          }
        },
        "656c579475124fc9a3778fcb4de00b9b": {
          "model_module": "@jupyter-widgets/controls",
          "model_module_version": "1.5.0",
          "model_name": "HTMLModel",
          "state": {
            "_dom_classes": [],
            "_model_module": "@jupyter-widgets/controls",
            "_model_module_version": "1.5.0",
            "_model_name": "HTMLModel",
            "_view_count": null,
            "_view_module": "@jupyter-widgets/controls",
            "_view_module_version": "1.5.0",
            "_view_name": "HTMLView",
            "description": "",
            "description_tooltip": null,
            "layout": "IPY_MODEL_8f9175d6f2c54524b6f93619e13b61f3",
            "placeholder": "​",
            "style": "IPY_MODEL_fedf876ec7db4f86a9433e1e7ca95169",
            "value": " 170498071/170498071 [00:16&lt;00:00, 14257214.34it/s]"
          }
        },
        "7427f628f08549b483c63ca53e742efb": {
          "model_module": "@jupyter-widgets/base",
          "model_module_version": "1.2.0",
          "model_name": "LayoutModel",
          "state": {
            "_model_module": "@jupyter-widgets/base",
            "_model_module_version": "1.2.0",
            "_model_name": "LayoutModel",
            "_view_count": null,
            "_view_module": "@jupyter-widgets/base",
            "_view_module_version": "1.2.0",
            "_view_name": "LayoutView",
            "align_content": null,
            "align_items": null,
            "align_self": null,
            "border": null,
            "bottom": null,
            "display": null,
            "flex": null,
            "flex_flow": null,
            "grid_area": null,
            "grid_auto_columns": null,
            "grid_auto_flow": null,
            "grid_auto_rows": null,
            "grid_column": null,
            "grid_gap": null,
            "grid_row": null,
            "grid_template_areas": null,
            "grid_template_columns": null,
            "grid_template_rows": null,
            "height": null,
            "justify_content": null,
            "justify_items": null,
            "left": null,
            "margin": null,
            "max_height": null,
            "max_width": null,
            "min_height": null,
            "min_width": null,
            "object_fit": null,
            "object_position": null,
            "order": null,
            "overflow": null,
            "overflow_x": null,
            "overflow_y": null,
            "padding": null,
            "right": null,
            "top": null,
            "visibility": null,
            "width": null
          }
        },
        "7e7884cf911f4822890bc91608504ef8": {
          "model_module": "@jupyter-widgets/controls",
          "model_module_version": "1.5.0",
          "model_name": "HBoxModel",
          "state": {
            "_dom_classes": [],
            "_model_module": "@jupyter-widgets/controls",
            "_model_module_version": "1.5.0",
            "_model_name": "HBoxModel",
            "_view_count": null,
            "_view_module": "@jupyter-widgets/controls",
            "_view_module_version": "1.5.0",
            "_view_name": "HBoxView",
            "box_style": "",
            "children": [
              "IPY_MODEL_29b235189c7d4538b5285e5c31170e63",
              "IPY_MODEL_28213babf5574262bd32054f0dfc8365",
              "IPY_MODEL_274aa92d732a4cbb80af0272f4e53429"
            ],
            "layout": "IPY_MODEL_24d7fa4a0bd3438498d9786d85c50c25"
          }
        },
        "82df95f09001466a9fcbe021aa6432aa": {
          "model_module": "@jupyter-widgets/base",
          "model_module_version": "1.2.0",
          "model_name": "LayoutModel",
          "state": {
            "_model_module": "@jupyter-widgets/base",
            "_model_module_version": "1.2.0",
            "_model_name": "LayoutModel",
            "_view_count": null,
            "_view_module": "@jupyter-widgets/base",
            "_view_module_version": "1.2.0",
            "_view_name": "LayoutView",
            "align_content": null,
            "align_items": null,
            "align_self": null,
            "border": null,
            "bottom": null,
            "display": null,
            "flex": null,
            "flex_flow": null,
            "grid_area": null,
            "grid_auto_columns": null,
            "grid_auto_flow": null,
            "grid_auto_rows": null,
            "grid_column": null,
            "grid_gap": null,
            "grid_row": null,
            "grid_template_areas": null,
            "grid_template_columns": null,
            "grid_template_rows": null,
            "height": null,
            "justify_content": null,
            "justify_items": null,
            "left": null,
            "margin": null,
            "max_height": null,
            "max_width": null,
            "min_height": null,
            "min_width": null,
            "object_fit": null,
            "object_position": null,
            "order": null,
            "overflow": null,
            "overflow_x": null,
            "overflow_y": null,
            "padding": null,
            "right": null,
            "top": null,
            "visibility": null,
            "width": null
          }
        },
        "897d9cfae07f41cfb13024a98018ba24": {
          "model_module": "@jupyter-widgets/controls",
          "model_module_version": "1.5.0",
          "model_name": "HBoxModel",
          "state": {
            "_dom_classes": [],
            "_model_module": "@jupyter-widgets/controls",
            "_model_module_version": "1.5.0",
            "_model_name": "HBoxModel",
            "_view_count": null,
            "_view_module": "@jupyter-widgets/controls",
            "_view_module_version": "1.5.0",
            "_view_name": "HBoxView",
            "box_style": "",
            "children": [
              "IPY_MODEL_bcb9934775bc4eefadc97d28b1cd9b16",
              "IPY_MODEL_944fc9bff5aa4bf28a555e40b65aefee",
              "IPY_MODEL_656c579475124fc9a3778fcb4de00b9b"
            ],
            "layout": "IPY_MODEL_18255e5763e743e2b8d2f194a28ab12a"
          }
        },
        "8f9175d6f2c54524b6f93619e13b61f3": {
          "model_module": "@jupyter-widgets/base",
          "model_module_version": "1.2.0",
          "model_name": "LayoutModel",
          "state": {
            "_model_module": "@jupyter-widgets/base",
            "_model_module_version": "1.2.0",
            "_model_name": "LayoutModel",
            "_view_count": null,
            "_view_module": "@jupyter-widgets/base",
            "_view_module_version": "1.2.0",
            "_view_name": "LayoutView",
            "align_content": null,
            "align_items": null,
            "align_self": null,
            "border": null,
            "bottom": null,
            "display": null,
            "flex": null,
            "flex_flow": null,
            "grid_area": null,
            "grid_auto_columns": null,
            "grid_auto_flow": null,
            "grid_auto_rows": null,
            "grid_column": null,
            "grid_gap": null,
            "grid_row": null,
            "grid_template_areas": null,
            "grid_template_columns": null,
            "grid_template_rows": null,
            "height": null,
            "justify_content": null,
            "justify_items": null,
            "left": null,
            "margin": null,
            "max_height": null,
            "max_width": null,
            "min_height": null,
            "min_width": null,
            "object_fit": null,
            "object_position": null,
            "order": null,
            "overflow": null,
            "overflow_x": null,
            "overflow_y": null,
            "padding": null,
            "right": null,
            "top": null,
            "visibility": null,
            "width": null
          }
        },
        "944fc9bff5aa4bf28a555e40b65aefee": {
          "model_module": "@jupyter-widgets/controls",
          "model_module_version": "1.5.0",
          "model_name": "FloatProgressModel",
          "state": {
            "_dom_classes": [],
            "_model_module": "@jupyter-widgets/controls",
            "_model_module_version": "1.5.0",
            "_model_name": "FloatProgressModel",
            "_view_count": null,
            "_view_module": "@jupyter-widgets/controls",
            "_view_module_version": "1.5.0",
            "_view_name": "ProgressView",
            "bar_style": "success",
            "description": "",
            "description_tooltip": null,
            "layout": "IPY_MODEL_511640b6b42844dbadd8b1cd8c5b7eb3",
            "max": 170498071,
            "min": 0,
            "orientation": "horizontal",
            "style": "IPY_MODEL_3276dcaa75044ed6bbf8c71cb60b06ae",
            "value": 170498071
          }
        },
        "a11530002cb24961adc591d0d0d9de47": {
          "model_module": "@jupyter-widgets/controls",
          "model_module_version": "1.5.0",
          "model_name": "DescriptionStyleModel",
          "state": {
            "_model_module": "@jupyter-widgets/controls",
            "_model_module_version": "1.5.0",
            "_model_name": "DescriptionStyleModel",
            "_view_count": null,
            "_view_module": "@jupyter-widgets/base",
            "_view_module_version": "1.2.0",
            "_view_name": "StyleView",
            "description_width": ""
          }
        },
        "bcb9934775bc4eefadc97d28b1cd9b16": {
          "model_module": "@jupyter-widgets/controls",
          "model_module_version": "1.5.0",
          "model_name": "HTMLModel",
          "state": {
            "_dom_classes": [],
            "_model_module": "@jupyter-widgets/controls",
            "_model_module_version": "1.5.0",
            "_model_name": "HTMLModel",
            "_view_count": null,
            "_view_module": "@jupyter-widgets/controls",
            "_view_module_version": "1.5.0",
            "_view_name": "HTMLView",
            "description": "",
            "description_tooltip": null,
            "layout": "IPY_MODEL_0f8db144a2c54644af96af9690cf5425",
            "placeholder": "​",
            "style": "IPY_MODEL_6215ac9779774949953035391e142240",
            "value": "100%"
          }
        },
        "d4ccee895893476f8b42db50cfa2865f": {
          "model_module": "@jupyter-widgets/controls",
          "model_module_version": "1.5.0",
          "model_name": "ProgressStyleModel",
          "state": {
            "_model_module": "@jupyter-widgets/controls",
            "_model_module_version": "1.5.0",
            "_model_name": "ProgressStyleModel",
            "_view_count": null,
            "_view_module": "@jupyter-widgets/base",
            "_view_module_version": "1.2.0",
            "_view_name": "StyleView",
            "bar_color": null,
            "description_width": ""
          }
        },
        "fedf876ec7db4f86a9433e1e7ca95169": {
          "model_module": "@jupyter-widgets/controls",
          "model_module_version": "1.5.0",
          "model_name": "DescriptionStyleModel",
          "state": {
            "_model_module": "@jupyter-widgets/controls",
            "_model_module_version": "1.5.0",
            "_model_name": "DescriptionStyleModel",
            "_view_count": null,
            "_view_module": "@jupyter-widgets/base",
            "_view_module_version": "1.2.0",
            "_view_name": "StyleView",
            "description_width": ""
          }
        }
      }
    }
  },
  "nbformat": 4,
  "nbformat_minor": 0
}
