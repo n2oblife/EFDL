{
 "cells": [
  {
   "cell_type": "markdown",
   "metadata": {},
   "source": [
    "___________________________________________________________________________________________________________\n",
    "# Introduction to Pytorch \n",
    "### (based on the [60 min blitz Deep Learning with Pytorch] (https://pytorch.org/tutorials/beginner/deep_learning_60min_blitz.html) )\n",
    "\n",
    "## 1. Tensors\n",
    "## 2. A Gentle Introduction to ``torch.autograd``\n",
    "## 3. Neural Networks\n",
    "## 4. Train a Classifier\n",
    "\n",
    "_____________________________________________________________________________________________________\n",
    "\n",
    "PyTorch is a Python-based scientific computing package serving two broad purposes:\n",
    "\n",
    "- A replacement for NumPy to use the power of GPUs and other accelerators.\n",
    "- An automatic differentiation library that is useful to implement neural networks.\n",
    "\n",
    "Goal of this tutorial:\n",
    "\n",
    " - Understand PyTorch’s Tensor library and neural networks at a high level.\n",
    " - Train a small neural network to classify images\n",
    "\n",
    "### NOTE:\n",
    "The 4 sessions can be run independently, so if you feel confident with the first sessions you can quickly cover them. However, for the last session *4. Train a Classifier* you are expected to complete some empty cells to successfully train and test your `net`. \n",
    "_____________________________________________________________________________________________________"
   ]
  },
  {
   "cell_type": "markdown",
   "metadata": {},
   "source": [
    "# 1. Tensors\n",
    "--------------------------------------------\n",
    "\n",
    "Tensors are a specialized data structure that are very similar to arrays\n",
    "and matrices. In PyTorch, we use tensors to encode the inputs and\n",
    "outputs of a model, as well as the model’s parameters.\n",
    "\n",
    "Tensors are similar to NumPy’s ndarrays, except that tensors can run on\n",
    "GPUs or other specialized hardware to accelerate computing. If you’re familiar with ndarrays, you’ll\n",
    "be right at home with the Tensor API. If not, follow along in this quick\n",
    "API walkthrough.\n"
   ]
  },
  {
   "cell_type": "code",
   "execution_count": 6,
   "metadata": {},
   "outputs": [],
   "source": [
    "import torch\n",
    "import numpy as np"
   ]
  },
  {
   "cell_type": "markdown",
   "metadata": {},
   "source": [
    "### Tensor Initialization\n",
    "\n",
    "\n",
    "Tensors can be initialized in various ways. Take a look at the following examples:\n",
    "\n",
    "**Directly from data**\n",
    "\n",
    "Tensors can be created directly from data. The data type is automatically inferred.\n",
    "\n"
   ]
  },
  {
   "cell_type": "code",
   "execution_count": 7,
   "metadata": {},
   "outputs": [],
   "source": [
    "data = [[1, 2],[3, 4]]\n",
    "x_data = torch.tensor(data)"
   ]
  },
  {
   "cell_type": "markdown",
   "metadata": {},
   "source": [
    "**From a NumPy array**\n",
    "\n",
    "Tensors can be created from NumPy arrays (and vice versa - see *bridge-to-np-label*).\n",
    "\n"
   ]
  },
  {
   "cell_type": "code",
   "execution_count": 8,
   "metadata": {},
   "outputs": [],
   "source": [
    "np_array = np.array(data)\n",
    "x_np = torch.from_numpy(np_array)"
   ]
  },
  {
   "cell_type": "markdown",
   "metadata": {},
   "source": [
    "**From another tensor:**\n",
    "\n",
    "The new tensor retains the properties (shape, datatype) of the argument tensor, unless explicitly overridden.\n",
    "\n"
   ]
  },
  {
   "cell_type": "code",
   "execution_count": 9,
   "metadata": {},
   "outputs": [
    {
     "name": "stdout",
     "output_type": "stream",
     "text": [
      "Ones Tensor: \n",
      " tensor([[1, 1],\n",
      "        [1, 1]]) \n",
      "\n",
      "Random Tensor: \n",
      " tensor([[0.9455, 0.7417],\n",
      "        [0.0320, 0.0712]]) \n",
      "\n"
     ]
    }
   ],
   "source": [
    "x_ones = torch.ones_like(x_data) # retains the properties of x_data\n",
    "print(f\"Ones Tensor: \\n {x_ones} \\n\")\n",
    "\n",
    "x_rand = torch.rand_like(x_data, dtype=torch.float) # overrides the datatype of x_data\n",
    "print(f\"Random Tensor: \\n {x_rand} \\n\")"
   ]
  },
  {
   "cell_type": "markdown",
   "metadata": {},
   "source": [
    "**With random or constant values:**\n",
    "\n",
    "*shape* is a tuple of tensor dimensions. In the functions below, it determines the dimensionality of the output tensor.\n",
    "\n"
   ]
  },
  {
   "cell_type": "code",
   "execution_count": 10,
   "metadata": {},
   "outputs": [
    {
     "name": "stdout",
     "output_type": "stream",
     "text": [
      "Random Tensor: \n",
      " tensor([[0.0581, 0.6820, 0.7229],\n",
      "        [0.5034, 0.4233, 0.6027]]) \n",
      "\n",
      "Ones Tensor: \n",
      " tensor([[1., 1., 1.],\n",
      "        [1., 1., 1.]]) \n",
      "\n",
      "Zeros Tensor: \n",
      " tensor([[0., 0., 0.],\n",
      "        [0., 0., 0.]])\n"
     ]
    }
   ],
   "source": [
    "shape = (2,3,)\n",
    "rand_tensor = torch.rand(shape)\n",
    "ones_tensor = torch.ones(shape)\n",
    "zeros_tensor = torch.zeros(shape)\n",
    "\n",
    "print(f\"Random Tensor: \\n {rand_tensor} \\n\")\n",
    "print(f\"Ones Tensor: \\n {ones_tensor} \\n\")\n",
    "print(f\"Zeros Tensor: \\n {zeros_tensor}\")"
   ]
  },
  {
   "cell_type": "markdown",
   "metadata": {},
   "source": [
    "### Tensor Attributes\n",
    "\n",
    "\n",
    "Tensor attributes describe their shape, datatype, and the device on which they are stored.\n",
    "\n"
   ]
  },
  {
   "cell_type": "code",
   "execution_count": 11,
   "metadata": {},
   "outputs": [
    {
     "name": "stdout",
     "output_type": "stream",
     "text": [
      "Shape of tensor: torch.Size([3, 4])\n",
      "Datatype of tensor: torch.float32\n",
      "Device tensor is stored on: cpu\n"
     ]
    }
   ],
   "source": [
    "tensor = torch.rand(3,4)\n",
    "\n",
    "print(f\"Shape of tensor: {tensor.shape}\")\n",
    "print(f\"Datatype of tensor: {tensor.dtype}\")\n",
    "print(f\"Device tensor is stored on: {tensor.device}\")"
   ]
  },
  {
   "cell_type": "markdown",
   "metadata": {},
   "source": [
    "### Tensor Operations\n",
    "\n",
    "\n",
    "Over 100 tensor operations, including transposing, indexing, slicing,\n",
    "mathematical operations, linear algebra, random sampling, and more are\n",
    "comprehensively described [here](https://pytorch.org/docs/stable/torch.html).\n",
    "\n",
    "Try out some of the operations from the list.\n",
    "If you're familiar with the NumPy API, you'll find the Tensor API a breeze to use.\n",
    "\n"
   ]
  },
  {
   "cell_type": "markdown",
   "metadata": {},
   "source": [
    "**Standard numpy-like indexing and slicing:**\n",
    "\n"
   ]
  },
  {
   "cell_type": "code",
   "execution_count": 12,
   "metadata": {},
   "outputs": [
    {
     "name": "stdout",
     "output_type": "stream",
     "text": [
      "tensor([[1., 0., 1., 1.],\n",
      "        [1., 0., 1., 1.],\n",
      "        [1., 0., 1., 1.],\n",
      "        [1., 0., 1., 1.]])\n"
     ]
    }
   ],
   "source": [
    "tensor = torch.ones(4, 4)\n",
    "tensor[:,1] = 0\n",
    "print(tensor)"
   ]
  },
  {
   "cell_type": "markdown",
   "metadata": {},
   "source": [
    "**Joining tensors** You can use *torch.cat* to concatenate a sequence of tensors along a given dimension.\n",
    "See also [torch.stack] (https://pytorch.org/docs/stable/generated/torch.stack.html),\n",
    "another tensor joining operation that is subtly different from *torch.cat*.\n",
    "\n"
   ]
  },
  {
   "cell_type": "code",
   "execution_count": 13,
   "metadata": {},
   "outputs": [
    {
     "name": "stdout",
     "output_type": "stream",
     "text": [
      "tensor([[1., 0., 1., 1., 1., 0., 1., 1., 1., 0., 1., 1.],\n",
      "        [1., 0., 1., 1., 1., 0., 1., 1., 1., 0., 1., 1.],\n",
      "        [1., 0., 1., 1., 1., 0., 1., 1., 1., 0., 1., 1.],\n",
      "        [1., 0., 1., 1., 1., 0., 1., 1., 1., 0., 1., 1.]])\n"
     ]
    }
   ],
   "source": [
    "t1 = torch.cat([tensor, tensor, tensor], dim=1)\n",
    "print(t1)"
   ]
  },
  {
   "cell_type": "markdown",
   "metadata": {},
   "source": [
    "**Multiplying tensors**\n",
    "\n"
   ]
  },
  {
   "cell_type": "code",
   "execution_count": 14,
   "metadata": {},
   "outputs": [
    {
     "name": "stdout",
     "output_type": "stream",
     "text": [
      "tensor.mul(tensor) \n",
      " tensor([[1., 0., 1., 1.],\n",
      "        [1., 0., 1., 1.],\n",
      "        [1., 0., 1., 1.],\n",
      "        [1., 0., 1., 1.]]) \n",
      "\n",
      "tensor * tensor \n",
      " tensor([[1., 0., 1., 1.],\n",
      "        [1., 0., 1., 1.],\n",
      "        [1., 0., 1., 1.],\n",
      "        [1., 0., 1., 1.]])\n"
     ]
    }
   ],
   "source": [
    "# This computes the element-wise product\n",
    "print(f\"tensor.mul(tensor) \\n {tensor.mul(tensor)} \\n\")\n",
    "# Alternative syntax:\n",
    "print(f\"tensor * tensor \\n {tensor * tensor}\")"
   ]
  },
  {
   "cell_type": "markdown",
   "metadata": {},
   "source": [
    "This computes the matrix multiplication between two tensors\n",
    "\n"
   ]
  },
  {
   "cell_type": "code",
   "execution_count": 15,
   "metadata": {},
   "outputs": [
    {
     "name": "stdout",
     "output_type": "stream",
     "text": [
      "tensor.matmul(tensor.T) \n",
      " tensor([[3., 3., 3., 3.],\n",
      "        [3., 3., 3., 3.],\n",
      "        [3., 3., 3., 3.],\n",
      "        [3., 3., 3., 3.]]) \n",
      "\n",
      "tensor @ tensor.T \n",
      " tensor([[3., 3., 3., 3.],\n",
      "        [3., 3., 3., 3.],\n",
      "        [3., 3., 3., 3.],\n",
      "        [3., 3., 3., 3.]])\n"
     ]
    }
   ],
   "source": [
    "print(f\"tensor.matmul(tensor.T) \\n {tensor.matmul(tensor.T)} \\n\")\n",
    "# Alternative syntax:\n",
    "print(f\"tensor @ tensor.T \\n {tensor @ tensor.T}\")"
   ]
  },
  {
   "cell_type": "markdown",
   "metadata": {},
   "source": [
    "**In-place operations**\n",
    "Operations that have a `_` suffix are in-place. For example: `x.copy_(y)`, ``x.t_()``, will change ``x``.\n",
    "\n"
   ]
  },
  {
   "cell_type": "code",
   "execution_count": 16,
   "metadata": {},
   "outputs": [
    {
     "name": "stdout",
     "output_type": "stream",
     "text": [
      "tensor([[1., 0., 1., 1.],\n",
      "        [1., 0., 1., 1.],\n",
      "        [1., 0., 1., 1.],\n",
      "        [1., 0., 1., 1.]]) \n",
      "\n",
      "tensor([[6., 5., 6., 6.],\n",
      "        [6., 5., 6., 6.],\n",
      "        [6., 5., 6., 6.],\n",
      "        [6., 5., 6., 6.]])\n"
     ]
    }
   ],
   "source": [
    "print(tensor, \"\\n\")\n",
    "tensor.add_(5)\n",
    "print(tensor)"
   ]
  },
  {
   "cell_type": "markdown",
   "metadata": {},
   "source": [
    "### NOTE\n",
    "\n",
    "n-place operations save some memory, but can be problematic when computing derivatives because of an immediate loss\n",
    "     of history. Hence, their use is discouraged.</p></div>\n",
    "\n"
   ]
  },
  {
   "cell_type": "markdown",
   "metadata": {},
   "source": [
    "**Bridge to NumPy**\n",
    "\n",
    "Tensor to NumPy array\n",
    "\n",
    "\n"
   ]
  },
  {
   "cell_type": "code",
   "execution_count": 17,
   "metadata": {},
   "outputs": [
    {
     "name": "stdout",
     "output_type": "stream",
     "text": [
      "t: tensor([1., 1., 1., 1., 1.])\n",
      "n: [1. 1. 1. 1. 1.]\n"
     ]
    }
   ],
   "source": [
    "t = torch.ones(5)\n",
    "print(f\"t: {t}\")\n",
    "n = t.numpy()\n",
    "print(f\"n: {n}\")"
   ]
  },
  {
   "cell_type": "markdown",
   "metadata": {},
   "source": [
    "A change in the tensor reflects in the NumPy array.\n",
    "\n"
   ]
  },
  {
   "cell_type": "code",
   "execution_count": 18,
   "metadata": {},
   "outputs": [
    {
     "name": "stdout",
     "output_type": "stream",
     "text": [
      "t: tensor([2., 2., 2., 2., 2.])\n",
      "n: [2. 2. 2. 2. 2.]\n"
     ]
    }
   ],
   "source": [
    "t.add_(1)\n",
    "print(f\"t: {t}\")\n",
    "print(f\"n: {n}\")"
   ]
  },
  {
   "cell_type": "markdown",
   "metadata": {},
   "source": [
    "NumPy array to Tensor\n",
    "\n"
   ]
  },
  {
   "cell_type": "code",
   "execution_count": 19,
   "metadata": {},
   "outputs": [],
   "source": [
    "n = np.ones(5)\n",
    "t = torch.from_numpy(n)"
   ]
  },
  {
   "cell_type": "markdown",
   "metadata": {},
   "source": [
    "Changes in the NumPy array reflects in the tensor.\n",
    "\n"
   ]
  },
  {
   "cell_type": "code",
   "execution_count": 20,
   "metadata": {},
   "outputs": [
    {
     "name": "stdout",
     "output_type": "stream",
     "text": [
      "t: tensor([2., 2., 2., 2., 2.], dtype=torch.float64)\n",
      "n: [2. 2. 2. 2. 2.]\n"
     ]
    }
   ],
   "source": [
    "np.add(n, 1, out=n)\n",
    "print(f\"t: {t}\")\n",
    "print(f\"n: {n}\")"
   ]
  },
  {
   "cell_type": "code",
   "execution_count": null,
   "metadata": {},
   "outputs": [],
   "source": []
  },
  {
   "cell_type": "markdown",
   "metadata": {},
   "source": [
    "\n",
    "# 2. A Gentle Introduction to ``torch.autograd``\n",
    "---------------------------------\n",
    "\n",
    "``torch.autograd`` is PyTorch’s automatic differentiation engine that powers\n",
    "neural network training. In this section, you will get a conceptual\n",
    "understanding of how autograd helps a neural network train.\n",
    "\n",
    "### Background\n",
    "\n",
    "Neural networks (NNs) are a collection of nested functions that are\n",
    "executed on some input data. These functions are defined by *parameters*\n",
    "(consisting of weights and biases), which in PyTorch are stored in\n",
    "tensors.\n",
    "\n",
    "Training a NN happens in two steps:\n",
    "\n",
    "**Forward Propagation**: In forward prop, the NN makes its best guess\n",
    "about the correct output. It runs the input data through each of its\n",
    "functions to make this guess.\n",
    "\n",
    "**Backward Propagation**: In backprop, the NN adjusts its parameters\n",
    "proportionate to the error in its guess. It does this by traversing\n",
    "backwards from the output, collecting the derivatives of the error with\n",
    "respect to the parameters of the functions (*gradients*), and optimizing\n",
    "the parameters using gradient descent. For a more detailed walkthrough\n",
    "of backprop, check out this [video from\n",
    "3Blue1Brown] (https://www.youtube.com/watch?v=tIeHLnjs5U8).\n",
    "\n",
    "\n",
    "\n",
    "\n",
    "### Usage in PyTorch\n",
    "\n",
    "Let's take a look at a single training step.\n",
    "For this example, we load a pretrained resnet18 model from ``torchvision``.\n",
    "We create a random data tensor to represent a single image with 3 channels, and height & width of 64,\n",
    "and its corresponding ``label`` initialized to some random values.\n",
    "\n"
   ]
  },
  {
   "cell_type": "code",
   "execution_count": 24,
   "metadata": {},
   "outputs": [],
   "source": [
    "import torch, torchvision\n",
    "model = torchvision.models.resnet18(pretrained=True)\n",
    "data = torch.rand(1, 3, 64, 64)\n",
    "labels = torch.rand(1, 1000)"
   ]
  },
  {
   "cell_type": "markdown",
   "metadata": {},
   "source": [
    "Next, we run the input data through the model through each of its layers to make a prediction.\n",
    "This is the **forward pass**.\n"
   ]
  },
  {
   "cell_type": "code",
   "execution_count": 25,
   "metadata": {},
   "outputs": [],
   "source": [
    "prediction = model(data) # forward pass"
   ]
  },
  {
   "cell_type": "markdown",
   "metadata": {},
   "source": [
    "We use the model's prediction and the corresponding label to calculate the error (*loss*).\n",
    "The next step is to backpropagate this error through the network.\n",
    "Backward propagation is kicked off when we call ``.backward()`` on the error tensor.\n",
    "Autograd then calculates and stores the gradients for each model parameter in the parameter's ``.grad`` attribute.\n"
   ]
  },
  {
   "cell_type": "code",
   "execution_count": 26,
   "metadata": {},
   "outputs": [],
   "source": [
    "loss = (prediction - labels).sum()\n",
    "loss.backward() # backward pass"
   ]
  },
  {
   "cell_type": "markdown",
   "metadata": {},
   "source": [
    "Next, we load an optimizer, in this case stochastic gradient descent **SGD** with a learning rate of 0.01 and momentum of 0.9.\n",
    "We register all the parameters of the model in the optimizer.\n",
    "\n",
    "Finally, we call ``.step()`` to initiate gradient descent. The optimizer adjusts each parameter by its gradient stored in ``.grad``.\n",
    "\n"
   ]
  },
  {
   "cell_type": "code",
   "execution_count": 27,
   "metadata": {},
   "outputs": [],
   "source": [
    "optim = torch.optim.SGD(model.parameters(), lr=1e-2, momentum=0.9)\n",
    "optim.step() #gradient descent"
   ]
  },
  {
   "cell_type": "markdown",
   "metadata": {},
   "source": [
    "## Differentiation in Autograd\n",
    "\n",
    "Let's take a look at how ``autograd`` collects gradients. We create two tensors ``a`` and ``b`` with\n",
    "``requires_grad=True``. This signals to ``autograd`` that every operation on them should be tracked.\n",
    "\n",
    "\n"
   ]
  },
  {
   "cell_type": "code",
   "execution_count": 28,
   "metadata": {},
   "outputs": [],
   "source": [
    "import torch\n",
    "\n",
    "a = torch.tensor([2., 3.], requires_grad=True)\n",
    "b = torch.tensor([6., 4.], requires_grad=True)"
   ]
  },
  {
   "cell_type": "markdown",
   "metadata": {},
   "source": [
    "We create another tensor ``Q`` from ``a`` and ``b``.\n",
    "\n",
    "\\begin{align}Q = 3a^3 - b^2\\end{align}\n"
   ]
  },
  {
   "cell_type": "code",
   "execution_count": 29,
   "metadata": {},
   "outputs": [],
   "source": [
    "Q = 3*a**3 - b**2"
   ]
  },
  {
   "cell_type": "markdown",
   "metadata": {},
   "source": [
    "Let's assume ``a`` and ``b`` to be parameters of an NN, and ``Q``\n",
    "to be the error. In NN training, we want gradients of the error\n",
    "w.r.t. parameters, i.e.\n",
    "\n",
    "\\begin{align}\\frac{\\partial Q}{\\partial a} = 9a^2\\end{align}\n",
    "\n",
    "\\begin{align}\\frac{\\partial Q}{\\partial b} = -2b\\end{align}\n",
    "\n",
    "\n",
    "When we call ``.backward()`` on ``Q``, autograd calculates these gradients\n",
    "and stores them in the respective tensors' ``.grad`` attribute.\n",
    "\n",
    "We need to explicitly pass a ``gradient`` argument in ``Q.backward()`` because it is a vector.\n",
    "``gradient`` is a tensor of the same shape as ``Q``, and it represents the\n",
    "gradient of Q w.r.t. itself, i.e.\n",
    "\n",
    "\\begin{align}\\frac{dQ}{dQ} = 1\\end{align}\n",
    "\n"
   ]
  },
  {
   "cell_type": "code",
   "execution_count": 30,
   "metadata": {},
   "outputs": [
    {
     "name": "stdout",
     "output_type": "stream",
     "text": [
      "tensor([True, True])\n",
      "tensor([True, True])\n"
     ]
    }
   ],
   "source": [
    "external_grad = torch.tensor([1., 1.])\n",
    "\n",
    "Q.backward(gradient=external_grad)\n",
    "# Gradients are now deposited in ``a.grad`` and ``b.grad``\n",
    "\n",
    "# check if collected gradients are correct\n",
    "print(9*a**2 == a.grad)\n",
    "print(-2*b == b.grad)"
   ]
  },
  {
   "cell_type": "markdown",
   "metadata": {},
   "source": [
    "## Computational Graph\n",
    "\n",
    "\n",
    "Conceptually, autograd keeps a record of data (tensors) & all executed\n",
    "operations (along with the resulting new tensors) in a directed acyclic\n",
    "graph (DAG) consisting of [Function] (https://pytorch.org/docs/stable/autograd.html#torch.autograd.Function)\n",
    "objects. In this DAG, leaves are the input tensors, roots are the output\n",
    "tensors. By tracing this graph from roots to leaves, you can\n",
    "automatically compute the gradients using the chain rule.\n",
    "\n",
    "In a forward pass, autograd does two things simultaneously:\n",
    "\n",
    "- run the requested operation to compute a resulting tensor, and\n",
    "- maintain the operation’s *gradient function* in the DAG.\n",
    "\n",
    "The backward pass kicks off when ``.backward()`` is called on the DAG\n",
    "root. ``autograd`` then:\n",
    "\n",
    "- computes the gradients from each ``.grad_fn``,\n",
    "- accumulates them in the respective tensor’s ``.grad`` attribute, and\n",
    "- using the chain rule, propagates all the way to the leaf tensors.\n",
    "\n",
    "\n",
    "** NOTE: DAGs are dynamic in PyTorch**\n",
    "  An important thing to note is that the graph is recreated from scratch; after each\n",
    "  ``.backward()`` call, autograd starts populating a new graph. This is\n",
    "  exactly what allows you to use control flow statements in your model;\n",
    "  you can change the shape, size and operations at every iteration if\n",
    "  needed.</p></div>\n",
    "\n",
    "\n",
    "### Exclusion from the DAG\n",
    "\n",
    "\n",
    "``torch.autograd`` tracks operations on all tensors which have their\n",
    "``requires_grad`` flag set to ``True``. For tensors that don’t require\n",
    "gradients, setting this attribute to ``False`` excludes it from the\n",
    "gradient computation DAG.\n",
    "\n",
    "The output tensor of an operation will require gradients even if only a\n",
    "single input tensor has ``requires_grad=True``."
   ]
  },
  {
   "cell_type": "code",
   "execution_count": 31,
   "metadata": {},
   "outputs": [
    {
     "name": "stdout",
     "output_type": "stream",
     "text": [
      "Does `a` require gradients? : False\n",
      "Does `b` require gradients?: True\n"
     ]
    }
   ],
   "source": [
    "x = torch.rand(5, 5)\n",
    "y = torch.rand(5, 5)\n",
    "z = torch.rand((5, 5), requires_grad=True)\n",
    "\n",
    "a = x + y\n",
    "print(f\"Does `a` require gradients? : {a.requires_grad}\")\n",
    "b = x + z\n",
    "print(f\"Does `b` require gradients?: {b.requires_grad}\")"
   ]
  },
  {
   "cell_type": "markdown",
   "metadata": {},
   "source": [
    "In a NN, parameters that don't compute gradients are usually called **frozen parameters**.\n",
    "It is useful to \"freeze\" part of your model if you know in advance that you won't need the gradients of those parameters\n",
    "(this offers some performance benefits by reducing autograd computations).\n",
    "\n",
    "Another common usecase where exclusion from the DAG is important is for transfer learning (see\n",
    "[finetuning a pretrained network](https://pytorch.org/tutorials/beginner/finetuning_torchvision_models_tutorial.html))\n",
    "\n",
    "In transfer learning, we freeze most of the model and typically only modify the classifier layers (last fully connected layers) to make predictions on new labels.\n",
    "Let's walk through a small example to demonstrate this. As before, we load a pretrained resnet18 model, and freeze all the parameters."
   ]
  },
  {
   "cell_type": "code",
   "execution_count": 32,
   "metadata": {},
   "outputs": [],
   "source": [
    "from torch import nn, optim\n",
    "\n",
    "model = torchvision.models.resnet18(pretrained=True)\n",
    "\n",
    "# Freeze all the parameters in the network\n",
    "for param in model.parameters():\n",
    "    param.requires_grad = False"
   ]
  },
  {
   "cell_type": "markdown",
   "metadata": {},
   "source": [
    "Let's say we want to finetune the model on a new dataset with 10 labels.\n",
    "In resnet, the classifier is the last linear layer ``model.fc``.\n",
    "We can simply replace it with a new linear layer (unfrozen by default)\n",
    "that acts as our classifier.\n",
    "\n"
   ]
  },
  {
   "cell_type": "code",
   "execution_count": 33,
   "metadata": {},
   "outputs": [],
   "source": [
    "model.fc = nn.Linear(512, 10)"
   ]
  },
  {
   "cell_type": "markdown",
   "metadata": {},
   "source": [
    "Now all parameters in the model, except the parameters of ``model.fc``, are frozen.\n",
    "The only parameters that compute gradients are the weights and bias of ``model.fc``.\n",
    "This means also that during traininig, the only parameters that are computing gradients (and hence updated in gradient descent)\n",
    "are the weights and bias of the classifier (`model.fc`).\n",
    "\n",
    "### NOTE:\n",
    " The same exclusionary functionality is available as a context manager in\n",
    "[`torch.no_grad()`] (https://pytorch.org/docs/stable/generated/torch.no_grad.html), that we will be using for *Transfer Learning*\n",
    "\n"
   ]
  },
  {
   "cell_type": "markdown",
   "metadata": {},
   "source": [
    "# 3. Neural Networks\n",
    "_________________________________________________________________________________\n",
    "\n",
    "Neural networks can be constructed using the ``torch.nn`` package.\n",
    "\n",
    "Now that you had a glimpse of ``autograd``, ``nn`` depends on\n",
    "``autograd`` to define models and differentiate them.\n",
    "An ``nn.Module`` contains layers, and a method ``forward(input)`` that\n",
    "returns the ``output``.\n",
    "\n",
    "A neural network takes the input, feeds it through several layers one after the other, and then finally gives the\n",
    "output.\n",
    "\n",
    "A typical training procedure for a neural network is as follows:\n",
    "\n",
    "- Define the neural network that has some learnable parameters (or\n",
    "  weights)\n",
    "- Iterate over a dataset of inputs\n",
    "- Process input through the network\n",
    "- Compute the loss (how far is the output from being correct)\n",
    "- Propagate gradients back into the network’s parameters\n",
    "- Update the weights of the network, typically using a simple update rule:\n",
    "\n",
    "\\begin{align}weight = weight - learningRate * gradient\\end{align}\n",
    "\n",
    "Define the network\n",
    "------------------\n",
    "\n",
    "Let’s define this network:\n"
   ]
  },
  {
   "cell_type": "code",
   "execution_count": 34,
   "metadata": {},
   "outputs": [
    {
     "name": "stdout",
     "output_type": "stream",
     "text": [
      "Net(\n",
      "  (conv1): Conv2d(1, 6, kernel_size=(3, 3), stride=(1, 1))\n",
      "  (conv2): Conv2d(6, 16, kernel_size=(3, 3), stride=(1, 1))\n",
      "  (fc1): Linear(in_features=576, out_features=120, bias=True)\n",
      "  (fc2): Linear(in_features=120, out_features=84, bias=True)\n",
      "  (fc3): Linear(in_features=84, out_features=10, bias=True)\n",
      ")\n"
     ]
    }
   ],
   "source": [
    "import torch\n",
    "import torch.nn as nn\n",
    "import torch.nn.functional as F\n",
    "\n",
    "\n",
    "class Net(nn.Module):\n",
    "\n",
    "    def __init__(self):\n",
    "        super(Net, self).__init__()\n",
    "        # 1 input image channel, 6 output channels, 3x3 square convolution\n",
    "        # kernel\n",
    "        self.conv1 = nn.Conv2d(1, 6, 3) # \n",
    "        self.conv2 = nn.Conv2d(6, 16, 3)\n",
    "        # an affine operation: y = Wx + b\n",
    "        self.fc1 = nn.Linear(16 * 6 * 6, 120)  # 6*6 from image dimension, 16 for channels\n",
    "        self.fc2 = nn.Linear(120, 84)\n",
    "        self.fc3 = nn.Linear(84, 10)\n",
    "\n",
    "    def forward(self, x):\n",
    "        # Max pooling over a (2, 2) window\n",
    "        x = F.max_pool2d(F.relu(self.conv1(x)), (2, 2))\n",
    "        # If the size is a square you can only specify a single number\n",
    "        x = F.max_pool2d(F.relu(self.conv2(x)), 2)\n",
    "        x = x.view(-1, self.num_flat_features(x))\n",
    "        x = F.relu(self.fc1(x))\n",
    "        x = F.relu(self.fc2(x))\n",
    "        x = self.fc3(x)\n",
    "        return x\n",
    "\n",
    "    def num_flat_features(self, x):\n",
    "        size = x.size()[1:]  # all dimensions except the batch dimension\n",
    "        num_features = 1\n",
    "        for s in size:\n",
    "            num_features *= s\n",
    "        return num_features\n",
    "\n",
    "\n",
    "net = Net()\n",
    "print(net)"
   ]
  },
  {
   "cell_type": "markdown",
   "metadata": {},
   "source": [
    "You just have to define the ``forward`` function, and the ``backward``\n",
    "function (where gradients are computed) is automatically defined for you\n",
    "using ``autograd``.\n",
    "You can use any of the Tensor operations in the ``forward`` function.\n",
    "\n",
    "The learnable parameters of a model are returned by ``net.parameters()``"
   ]
  },
  {
   "cell_type": "code",
   "execution_count": 45,
   "metadata": {},
   "outputs": [
    {
     "name": "stdout",
     "output_type": "stream",
     "text": [
      "[Parameter containing:\n",
      "tensor([[[[ 0.3232,  0.2609, -0.3089],\n",
      "          [-0.2894, -0.0428, -0.1685],\n",
      "          [ 0.1942, -0.0983,  0.1511]]],\n",
      "\n",
      "\n",
      "        [[[ 0.1520, -0.1023, -0.2293],\n",
      "          [-0.1122,  0.2190, -0.2378],\n",
      "          [-0.2523,  0.2518,  0.2207]]],\n",
      "\n",
      "\n",
      "        [[[-0.0147, -0.2528,  0.2763],\n",
      "          [ 0.3105,  0.0800,  0.1990],\n",
      "          [-0.0284,  0.2878,  0.0189]]],\n",
      "\n",
      "\n",
      "        [[[ 0.2333,  0.1401,  0.2731],\n",
      "          [-0.2240, -0.3218, -0.2760],\n",
      "          [-0.2156,  0.2749, -0.3129]]],\n",
      "\n",
      "\n",
      "        [[[ 0.1466, -0.2837,  0.0527],\n",
      "          [ 0.3315, -0.2224,  0.0825],\n",
      "          [ 0.2360,  0.1135,  0.2428]]],\n",
      "\n",
      "\n",
      "        [[[-0.3203, -0.2598, -0.2279],\n",
      "          [ 0.0794, -0.1371,  0.0102],\n",
      "          [ 0.1371,  0.3148, -0.2803]]]], requires_grad=True), Parameter containing:\n",
      "tensor([ 0.2975, -0.2854,  0.2845,  0.2452,  0.0899, -0.2120],\n",
      "       requires_grad=True), Parameter containing:\n",
      "tensor([[[[ 3.8460e-02,  1.3010e-01, -1.0080e-01],\n",
      "          [-7.5663e-02, -1.3541e-01,  4.4777e-02],\n",
      "          [ 6.5082e-02, -9.8124e-02, -4.0383e-02]],\n",
      "\n",
      "         [[ 4.8632e-02, -3.2429e-02,  9.9757e-02],\n",
      "          [ 8.3398e-02, -5.9791e-02, -9.7580e-02],\n",
      "          [ 5.4010e-02,  4.3839e-02, -1.2797e-02]],\n",
      "\n",
      "         [[ 1.2291e-01,  1.1758e-01, -1.0781e-02],\n",
      "          [ 3.1280e-02,  3.5733e-02,  9.4098e-02],\n",
      "          [ 3.8325e-02,  5.5791e-02,  3.7130e-02]],\n",
      "\n",
      "         [[-3.4177e-02,  4.6238e-02,  1.2439e-01],\n",
      "          [ 9.8778e-03, -6.9876e-02,  6.4337e-02],\n",
      "          [ 3.2438e-02,  1.0573e-01, -2.5167e-02]],\n",
      "\n",
      "         [[-2.4028e-02, -1.9748e-02, -5.2446e-02],\n",
      "          [-2.1675e-02,  5.0545e-02,  2.7995e-02],\n",
      "          [ 2.8554e-02, -2.6211e-03,  8.2868e-02]],\n",
      "\n",
      "         [[-1.2024e-02, -5.4128e-02, -4.9680e-02],\n",
      "          [ 1.8816e-02,  3.8169e-02, -3.7510e-02],\n",
      "          [ 8.9361e-02,  1.1199e-01, -6.4324e-02]]],\n",
      "\n",
      "\n",
      "        [[[ 9.2144e-02, -9.5830e-02, -5.8425e-02],\n",
      "          [-5.7405e-02,  5.4791e-02,  9.7984e-02],\n",
      "          [ 2.1959e-02,  1.2312e-01,  7.0352e-02]],\n",
      "\n",
      "         [[-1.3372e-01,  1.2735e-01, -1.1782e-01],\n",
      "          [ 1.1434e-02,  1.2701e-01, -1.2541e-01],\n",
      "          [ 2.9340e-02, -4.9871e-02, -3.0260e-02]],\n",
      "\n",
      "         [[ 4.4892e-03, -5.0554e-02, -4.1981e-02],\n",
      "          [-1.0236e-01, -8.9892e-02, -5.7003e-02],\n",
      "          [-4.3792e-02,  1.3201e-01,  8.3535e-02]],\n",
      "\n",
      "         [[-1.0950e-03,  2.5173e-02,  5.0670e-02],\n",
      "          [ 3.1230e-02,  1.0752e-01,  9.7507e-02],\n",
      "          [-3.7815e-02,  2.8126e-02, -1.2352e-01]],\n",
      "\n",
      "         [[ 1.3003e-01, -4.1986e-02,  2.4922e-02],\n",
      "          [-3.6340e-02,  6.7177e-02, -5.0342e-02],\n",
      "          [ 3.0760e-02, -1.1360e-01, -6.3626e-02]],\n",
      "\n",
      "         [[ 8.1065e-02, -1.0091e-01,  1.1198e-01],\n",
      "          [-9.0298e-02, -7.0529e-02,  4.6510e-02],\n",
      "          [ 9.7917e-02,  1.2730e-01,  9.8891e-02]]],\n",
      "\n",
      "\n",
      "        [[[ 1.2691e-01, -1.3304e-01,  3.0820e-02],\n",
      "          [-2.6240e-02,  7.3093e-02, -2.5608e-02],\n",
      "          [ 1.1959e-01,  6.9950e-02, -8.9390e-02]],\n",
      "\n",
      "         [[ 1.3152e-01, -8.7621e-02, -2.3051e-02],\n",
      "          [ 1.0730e-01,  1.2108e-01,  1.3208e-01],\n",
      "          [ 1.4134e-02,  1.8955e-02,  3.9309e-02]],\n",
      "\n",
      "         [[-1.5728e-02, -1.2654e-01, -7.5193e-02],\n",
      "          [ 1.9081e-02, -1.5848e-02, -9.6523e-03],\n",
      "          [-1.3474e-01,  5.7853e-02,  1.3585e-01]],\n",
      "\n",
      "         [[-3.6464e-02, -6.8178e-02, -1.3090e-01],\n",
      "          [-5.0939e-02, -4.2035e-02, -7.3125e-02],\n",
      "          [-1.4942e-02,  4.6217e-02, -7.8727e-02]],\n",
      "\n",
      "         [[-4.7652e-02, -1.0554e-01, -6.5683e-02],\n",
      "          [-9.5013e-02,  7.8285e-02,  4.2932e-02],\n",
      "          [-1.1091e-01, -9.5061e-04,  1.3187e-01]],\n",
      "\n",
      "         [[ 2.7544e-02, -7.2880e-02, -3.1004e-02],\n",
      "          [-3.5985e-03,  1.0570e-01, -3.4332e-02],\n",
      "          [-1.0164e-01,  5.4133e-02,  7.2338e-02]]],\n",
      "\n",
      "\n",
      "        [[[ 8.0657e-03,  4.7223e-02, -3.9142e-02],\n",
      "          [-9.1292e-02,  1.3452e-01,  9.2704e-03],\n",
      "          [ 2.2282e-02,  1.0140e-01,  4.2171e-02]],\n",
      "\n",
      "         [[-6.4031e-02, -2.8611e-02,  5.3000e-02],\n",
      "          [-1.0083e-01, -2.2437e-02, -3.0881e-02],\n",
      "          [ 8.6940e-02, -6.1571e-02,  9.4494e-02]],\n",
      "\n",
      "         [[-1.8374e-02,  4.6332e-02, -1.3373e-01],\n",
      "          [ 3.0557e-02, -5.1555e-02,  1.3590e-01],\n",
      "          [-8.2651e-02, -6.3875e-02, -1.1773e-01]],\n",
      "\n",
      "         [[-4.0598e-04, -8.5096e-02,  4.4410e-04],\n",
      "          [ 4.5831e-02, -9.8776e-02, -6.5971e-02],\n",
      "          [-1.3018e-01, -2.5736e-03, -4.5490e-02]],\n",
      "\n",
      "         [[-5.0333e-02, -1.4833e-02, -4.3085e-02],\n",
      "          [-9.1015e-02,  4.5698e-02,  6.5200e-02],\n",
      "          [ 8.4795e-02, -1.1853e-01, -1.3538e-02]],\n",
      "\n",
      "         [[ 8.6107e-03, -1.2934e-01,  8.1775e-02],\n",
      "          [ 1.2703e-02, -5.9994e-02, -6.2314e-02],\n",
      "          [-1.3014e-01, -9.3140e-02,  1.4473e-02]]],\n",
      "\n",
      "\n",
      "        [[[ 4.2310e-02, -7.9478e-02, -4.9104e-02],\n",
      "          [-1.0783e-01, -2.4990e-02,  4.3128e-03],\n",
      "          [ 2.6956e-02,  3.9196e-02, -7.9763e-02]],\n",
      "\n",
      "         [[-1.4102e-02, -8.8134e-02,  5.4270e-02],\n",
      "          [ 4.8417e-02,  9.3963e-02, -5.4429e-02],\n",
      "          [-7.3667e-02, -1.0146e-01,  1.3505e-01]],\n",
      "\n",
      "         [[ 5.2859e-02, -9.0301e-02, -4.7358e-02],\n",
      "          [ 6.9331e-02,  7.2932e-02, -1.1837e-02],\n",
      "          [-1.2773e-01,  9.1396e-02,  1.1944e-01]],\n",
      "\n",
      "         [[ 1.1096e-01, -1.1348e-01,  9.0247e-02],\n",
      "          [ 8.8321e-02, -1.2698e-01,  9.3909e-02],\n",
      "          [-3.0350e-02, -9.5057e-02,  1.0876e-01]],\n",
      "\n",
      "         [[-1.1574e-01, -1.7299e-02,  3.0781e-02],\n",
      "          [ 7.7399e-03, -1.0733e-01, -9.8860e-02],\n",
      "          [ 1.0456e-01, -9.2611e-02, -1.2053e-01]],\n",
      "\n",
      "         [[-2.5186e-02, -1.2747e-01, -5.7266e-02],\n",
      "          [-9.3292e-02, -4.2015e-02,  1.2984e-01],\n",
      "          [ 9.3854e-02,  1.1360e-01, -1.1522e-01]]],\n",
      "\n",
      "\n",
      "        [[[ 1.0899e-01, -6.8205e-02, -8.3076e-02],\n",
      "          [ 1.2876e-01,  4.1950e-02, -7.8927e-02],\n",
      "          [ 4.4555e-02, -1.2358e-01, -5.1140e-02]],\n",
      "\n",
      "         [[ 8.7399e-02,  7.1626e-02, -3.3344e-02],\n",
      "          [ 6.9517e-02,  1.3401e-01,  4.8173e-02],\n",
      "          [ 3.2603e-02,  8.4947e-02, -5.7808e-02]],\n",
      "\n",
      "         [[-3.0490e-02, -5.7528e-02,  6.6410e-02],\n",
      "          [ 3.7675e-02,  1.6312e-02,  1.7058e-02],\n",
      "          [ 7.3973e-02, -7.9649e-02,  1.6537e-02]],\n",
      "\n",
      "         [[ 9.5392e-02,  6.1512e-02, -2.9983e-03],\n",
      "          [ 2.0020e-02, -1.0084e-01,  3.3740e-02],\n",
      "          [ 4.0624e-02, -3.1962e-02, -6.2475e-02]],\n",
      "\n",
      "         [[ 6.6819e-03, -1.2384e-01, -4.2620e-02],\n",
      "          [-6.8793e-02,  5.7995e-02,  3.3264e-02],\n",
      "          [-7.6003e-02,  9.3481e-02,  4.2995e-02]],\n",
      "\n",
      "         [[-8.7921e-02, -3.6638e-02, -5.5628e-02],\n",
      "          [ 1.0732e-01,  1.0861e-01, -5.3034e-04],\n",
      "          [ 3.8197e-02,  7.2981e-02, -9.2848e-03]]],\n",
      "\n",
      "\n",
      "        [[[-1.0792e-01, -8.0958e-02, -5.8301e-02],\n",
      "          [-1.0943e-01,  1.0784e-01, -5.2240e-02],\n",
      "          [-2.5347e-02, -7.7384e-02,  2.9940e-02]],\n",
      "\n",
      "         [[-9.5330e-02,  5.3178e-02,  6.5701e-02],\n",
      "          [-1.0072e-01, -7.5812e-02,  1.2114e-01],\n",
      "          [-8.0049e-02, -9.1037e-02, -7.2177e-02]],\n",
      "\n",
      "         [[-3.2899e-03, -2.6533e-02,  1.3858e-02],\n",
      "          [-4.0469e-02,  2.3748e-02,  1.2855e-01],\n",
      "          [ 9.0917e-02,  1.7742e-02, -6.8558e-02]],\n",
      "\n",
      "         [[ 3.4490e-02,  1.1703e-01, -7.6510e-02],\n",
      "          [-4.0233e-03,  9.4008e-02, -3.7499e-02],\n",
      "          [-1.0792e-01, -6.1805e-02,  8.3819e-02]],\n",
      "\n",
      "         [[ 8.4533e-02, -7.9973e-02,  1.1449e-01],\n",
      "          [-1.2932e-01, -8.0425e-02, -1.0886e-01],\n",
      "          [-1.1899e-01,  2.3869e-02,  1.3531e-01]],\n",
      "\n",
      "         [[-9.5044e-02, -5.3333e-02,  1.3437e-01],\n",
      "          [ 1.8203e-02, -1.9432e-03, -3.5445e-02],\n",
      "          [-1.7001e-02, -1.3457e-02, -7.1486e-03]]],\n",
      "\n",
      "\n",
      "        [[[ 2.9913e-02, -1.0870e-01, -9.2840e-02],\n",
      "          [-4.5884e-02, -1.2885e-01,  1.2456e-01],\n",
      "          [-1.1350e-01,  8.4220e-02,  4.2856e-02]],\n",
      "\n",
      "         [[ 1.5950e-02, -1.0433e-01, -1.2626e-01],\n",
      "          [-4.3492e-03, -1.4538e-02, -5.3520e-02],\n",
      "          [ 2.8942e-03, -9.7889e-02,  7.7903e-02]],\n",
      "\n",
      "         [[ 2.8932e-02, -4.1528e-03, -7.0706e-02],\n",
      "          [ 2.1325e-05,  8.4153e-02,  6.5817e-02],\n",
      "          [-8.0957e-02, -1.3381e-02,  1.2861e-01]],\n",
      "\n",
      "         [[ 1.0360e-01, -9.1005e-02,  1.2388e-01],\n",
      "          [-5.7631e-02, -9.7997e-02,  1.3796e-02],\n",
      "          [ 2.7469e-02,  3.8030e-02,  1.2350e-01]],\n",
      "\n",
      "         [[ 1.0039e-01,  1.5103e-02, -9.5339e-02],\n",
      "          [ 1.0684e-01,  9.4359e-02,  8.3702e-02],\n",
      "          [-6.1561e-03, -6.9676e-02,  1.0696e-01]],\n",
      "\n",
      "         [[ 1.2405e-01,  1.1680e-01,  5.9126e-04],\n",
      "          [-1.0063e-01,  3.1695e-02,  3.3527e-02],\n",
      "          [-3.0764e-02,  2.6357e-02,  9.0350e-02]]],\n",
      "\n",
      "\n",
      "        [[[-9.1011e-03,  8.7451e-02,  2.2718e-02],\n",
      "          [ 5.8359e-02, -1.0224e-01,  1.3059e-01],\n",
      "          [-1.1250e-01, -1.1151e-02,  2.4535e-03]],\n",
      "\n",
      "         [[ 9.1787e-03, -3.1817e-02, -2.5008e-02],\n",
      "          [-2.5831e-02,  2.5309e-02, -5.6932e-02],\n",
      "          [ 3.7145e-02,  7.4178e-02,  9.9679e-02]],\n",
      "\n",
      "         [[ 6.3874e-02,  1.2759e-01, -1.1513e-02],\n",
      "          [ 5.7859e-02, -9.6402e-02,  5.0651e-02],\n",
      "          [ 4.5066e-02,  1.1325e-01, -1.2768e-01]],\n",
      "\n",
      "         [[ 4.8105e-02,  1.2436e-01,  1.3444e-01],\n",
      "          [-2.1222e-02, -8.9835e-02, -1.3318e-01],\n",
      "          [ 4.1256e-02,  6.0016e-02,  2.1720e-03]],\n",
      "\n",
      "         [[ 1.0725e-01, -4.6951e-02, -3.5509e-02],\n",
      "          [ 8.3775e-02, -1.2928e-02, -8.3824e-02],\n",
      "          [ 1.1993e-01,  4.1029e-02, -8.1425e-02]],\n",
      "\n",
      "         [[ 2.8115e-02, -1.4135e-02,  2.5839e-02],\n",
      "          [ 1.2241e-01, -1.2964e-02, -5.6145e-02],\n",
      "          [-3.3554e-02,  2.7244e-02,  8.4070e-02]]],\n",
      "\n",
      "\n",
      "        [[[-1.0149e-01, -1.2186e-01,  7.6007e-02],\n",
      "          [-1.1210e-01, -3.2189e-02, -7.3344e-02],\n",
      "          [-5.2384e-02, -1.5531e-02,  9.6326e-02]],\n",
      "\n",
      "         [[ 1.1419e-01,  1.0419e-01, -2.2729e-02],\n",
      "          [ 8.5678e-02, -1.0199e-01,  8.9391e-02],\n",
      "          [-3.9516e-02,  1.5652e-02, -2.3455e-02]],\n",
      "\n",
      "         [[-1.1118e-01, -7.3193e-02, -6.6677e-02],\n",
      "          [ 3.9109e-02, -1.2146e-01, -1.6392e-03],\n",
      "          [-2.5296e-02, -1.0362e-01, -6.8433e-02]],\n",
      "\n",
      "         [[ 8.3683e-02, -3.7007e-02,  3.9536e-02],\n",
      "          [ 1.2322e-02, -3.7049e-02,  2.0652e-03],\n",
      "          [ 1.3481e-01,  1.0362e-01,  1.2327e-01]],\n",
      "\n",
      "         [[ 2.8590e-02, -1.1023e-01, -3.3013e-02],\n",
      "          [ 4.0702e-02,  9.4342e-02,  4.1691e-02],\n",
      "          [-1.0009e-01,  5.1684e-02,  1.2855e-01]],\n",
      "\n",
      "         [[-8.5160e-02,  6.9319e-02,  8.7840e-02],\n",
      "          [ 6.0886e-02, -1.2853e-01,  3.4198e-02],\n",
      "          [-9.5386e-02, -1.1375e-01,  1.2730e-02]]],\n",
      "\n",
      "\n",
      "        [[[ 7.8248e-02,  1.3230e-01, -7.3338e-02],\n",
      "          [-3.3030e-02,  8.2989e-02,  1.2915e-01],\n",
      "          [-1.2483e-02, -2.3864e-02,  8.3264e-02]],\n",
      "\n",
      "         [[ 9.7523e-02,  5.9949e-02, -1.2462e-01],\n",
      "          [ 1.2754e-01, -2.0774e-02,  6.5815e-02],\n",
      "          [ 8.0051e-02,  1.3173e-01,  3.6788e-02]],\n",
      "\n",
      "         [[ 7.5213e-02, -9.1594e-02, -1.3861e-02],\n",
      "          [ 5.3195e-02,  6.5671e-02, -1.1351e-01],\n",
      "          [ 1.2296e-01,  4.0185e-03, -3.3061e-02]],\n",
      "\n",
      "         [[ 7.1243e-02, -4.7819e-02, -1.2492e-01],\n",
      "          [ 3.1853e-02, -7.6134e-02, -2.7031e-02],\n",
      "          [ 9.5217e-02,  7.7917e-02,  4.0717e-02]],\n",
      "\n",
      "         [[-3.4971e-02, -2.6295e-02,  3.1336e-02],\n",
      "          [-6.8022e-02, -1.5182e-02, -6.4183e-02],\n",
      "          [ 1.0458e-01,  6.8034e-02, -4.3448e-02]],\n",
      "\n",
      "         [[ 3.0755e-02,  1.0864e-01,  4.6342e-02],\n",
      "          [-1.6558e-02,  1.3556e-02, -1.0620e-01],\n",
      "          [-1.0674e-01, -6.2070e-02,  8.9984e-02]]],\n",
      "\n",
      "\n",
      "        [[[-1.2378e-01,  1.4915e-02,  6.5038e-02],\n",
      "          [ 1.2594e-01,  1.1261e-01,  1.0353e-01],\n",
      "          [-9.7203e-02, -6.7256e-02,  4.2930e-02]],\n",
      "\n",
      "         [[ 6.1174e-02,  2.0723e-02, -8.2843e-02],\n",
      "          [ 8.7374e-03, -4.9992e-02,  2.1968e-02],\n",
      "          [ 1.1258e-01, -6.6148e-02,  1.0373e-01]],\n",
      "\n",
      "         [[-1.0896e-01,  7.2553e-02,  7.4930e-02],\n",
      "          [-1.1765e-01,  4.3878e-02,  1.1727e-01],\n",
      "          [ 4.4594e-02,  1.1462e-01,  2.5354e-03]],\n",
      "\n",
      "         [[ 8.7798e-02, -5.2481e-02,  1.2677e-01],\n",
      "          [ 1.2395e-01,  3.9597e-02, -4.8571e-02],\n",
      "          [-8.2646e-02,  6.1138e-04, -8.5269e-02]],\n",
      "\n",
      "         [[-1.1897e-01, -5.5418e-03, -4.6123e-02],\n",
      "          [-9.3507e-02,  6.1487e-02,  1.1881e-01],\n",
      "          [ 7.0040e-02,  7.1284e-02, -1.1708e-01]],\n",
      "\n",
      "         [[ 5.9726e-02, -2.2241e-02,  4.8255e-02],\n",
      "          [ 9.9124e-02,  4.5547e-02,  4.6417e-02],\n",
      "          [-3.7968e-03,  7.1522e-02,  4.3515e-02]]],\n",
      "\n",
      "\n",
      "        [[[ 6.4306e-02,  1.4514e-03,  3.9553e-02],\n",
      "          [ 8.9936e-02,  1.0891e-01,  1.1130e-01],\n",
      "          [ 1.1851e-01, -8.1753e-02,  6.1761e-02]],\n",
      "\n",
      "         [[ 9.1823e-02, -1.0165e-01, -8.8201e-02],\n",
      "          [-5.2956e-03, -1.0467e-01,  8.0587e-02],\n",
      "          [ 1.3516e-01, -1.1724e-01, -2.4989e-03]],\n",
      "\n",
      "         [[-5.2835e-02, -8.8652e-02,  5.4442e-02],\n",
      "          [-3.2951e-02,  2.8273e-02,  1.2777e-01],\n",
      "          [ 1.2662e-02,  1.2780e-01, -1.0023e-01]],\n",
      "\n",
      "         [[ 7.7749e-02,  1.0967e-01, -8.5467e-04],\n",
      "          [-1.1741e-02,  6.2224e-02,  1.1606e-01],\n",
      "          [ 1.0157e-02, -1.0811e-01,  5.3933e-02]],\n",
      "\n",
      "         [[-1.0716e-03, -3.6068e-04,  8.9779e-02],\n",
      "          [-1.3230e-01,  1.2699e-01, -8.4459e-02],\n",
      "          [-1.2627e-01,  3.6732e-02,  3.8753e-02]],\n",
      "\n",
      "         [[-5.2867e-02,  7.7561e-02, -7.1349e-02],\n",
      "          [ 2.1743e-02, -1.3691e-02,  4.3936e-02],\n",
      "          [ 1.1137e-01,  7.3640e-03, -3.1918e-02]]],\n",
      "\n",
      "\n",
      "        [[[-8.9326e-04, -1.0699e-01, -1.1655e-01],\n",
      "          [-9.2688e-02,  2.9206e-02,  1.3067e-01],\n",
      "          [ 6.8017e-02, -9.2863e-02, -1.2890e-01]],\n",
      "\n",
      "         [[ 4.3110e-02,  2.8383e-02, -2.1387e-02],\n",
      "          [ 1.0243e-01,  1.6276e-02, -1.9079e-02],\n",
      "          [-1.3330e-01,  2.1002e-02,  8.9271e-02]],\n",
      "\n",
      "         [[-9.5461e-02,  8.3244e-02, -2.9196e-02],\n",
      "          [-1.6042e-02,  1.0361e-01,  9.9484e-02],\n",
      "          [-9.7491e-02,  1.2430e-01, -7.5154e-03]],\n",
      "\n",
      "         [[-1.1865e-01,  7.0764e-02, -6.5169e-02],\n",
      "          [ 8.4165e-02,  8.5494e-02,  1.1384e-02],\n",
      "          [ 1.1639e-01,  1.3129e-01,  8.9430e-02]],\n",
      "\n",
      "         [[-2.5463e-02,  8.1244e-03,  1.3298e-01],\n",
      "          [ 9.5178e-02, -1.1539e-01,  9.5083e-02],\n",
      "          [ 1.2761e-01, -2.9715e-02,  2.8584e-02]],\n",
      "\n",
      "         [[ 6.5864e-02,  2.0086e-02,  1.3230e-01],\n",
      "          [ 1.1489e-01,  5.1143e-02, -3.7753e-02],\n",
      "          [ 3.2438e-02, -3.7980e-02,  1.1461e-01]]],\n",
      "\n",
      "\n",
      "        [[[ 2.7106e-02,  1.3115e-01, -9.1500e-02],\n",
      "          [ 2.3815e-02, -6.9409e-02, -7.2939e-02],\n",
      "          [-6.1132e-02,  7.1494e-02,  4.0985e-02]],\n",
      "\n",
      "         [[ 1.3845e-02, -1.0528e-01,  1.1090e-01],\n",
      "          [-1.2719e-01,  7.8964e-02,  1.2496e-01],\n",
      "          [-1.1628e-01, -5.0276e-02,  1.0446e-01]],\n",
      "\n",
      "         [[-9.3025e-02, -1.2413e-01, -1.2985e-01],\n",
      "          [ 6.0816e-02,  9.5261e-02,  8.7042e-02],\n",
      "          [-6.4915e-02,  1.7009e-03,  1.0759e-01]],\n",
      "\n",
      "         [[ 1.1431e-01,  1.6051e-02,  1.0242e-02],\n",
      "          [ 1.6836e-02,  1.1817e-01,  6.8169e-02],\n",
      "          [ 4.0082e-02, -7.9228e-03,  3.1325e-02]],\n",
      "\n",
      "         [[-1.1559e-01,  1.2024e-01,  5.2612e-02],\n",
      "          [ 5.5408e-02, -1.3467e-01,  1.7613e-02],\n",
      "          [-6.5098e-02, -9.0875e-02,  7.3234e-02]],\n",
      "\n",
      "         [[ 5.3741e-02,  1.3600e-01, -1.2913e-02],\n",
      "          [ 5.4185e-02, -4.4834e-02,  5.8575e-02],\n",
      "          [-2.7972e-02, -9.1780e-02,  4.6160e-02]]],\n",
      "\n",
      "\n",
      "        [[[ 6.8861e-02, -5.9713e-02, -7.1583e-02],\n",
      "          [-1.1166e-02,  8.5288e-02,  1.0875e-01],\n",
      "          [-2.7513e-02,  5.2863e-02, -6.0389e-02]],\n",
      "\n",
      "         [[ 4.9043e-02,  1.0156e-02,  1.8590e-03],\n",
      "          [-1.1067e-01,  1.0260e-01,  9.5543e-02],\n",
      "          [ 1.6204e-02, -1.0665e-01,  7.7587e-02]],\n",
      "\n",
      "         [[ 8.7995e-02,  2.7494e-02,  1.0865e-01],\n",
      "          [ 3.2338e-03, -3.7176e-02,  6.5571e-02],\n",
      "          [-1.2725e-01, -4.8702e-02,  4.8892e-02]],\n",
      "\n",
      "         [[ 1.0882e-01,  7.7482e-02, -2.3626e-02],\n",
      "          [-1.2940e-02, -4.8379e-02,  1.0071e-01],\n",
      "          [ 3.3499e-03,  5.2397e-02, -3.3090e-02]],\n",
      "\n",
      "         [[ 3.5792e-02,  1.1722e-01,  8.1587e-02],\n",
      "          [-7.9689e-02, -9.8841e-02,  6.6769e-02],\n",
      "          [ 8.4517e-02,  2.8210e-02, -1.1370e-01]],\n",
      "\n",
      "         [[ 7.6799e-02, -9.8879e-02, -6.5546e-02],\n",
      "          [-1.1322e-01, -1.2410e-01, -9.7375e-02],\n",
      "          [ 7.5316e-02,  5.8780e-02,  1.2675e-01]]]], requires_grad=True), Parameter containing:\n",
      "tensor([-0.0204, -0.0077,  0.0750, -0.0959,  0.0447, -0.0535, -0.0601,  0.0795,\n",
      "         0.0334,  0.1082,  0.0147, -0.0089, -0.1295,  0.0279, -0.1096,  0.0006],\n",
      "       requires_grad=True), Parameter containing:\n",
      "tensor([[-0.0180, -0.0372, -0.0365,  ...,  0.0013,  0.0333, -0.0353],\n",
      "        [-0.0343, -0.0247, -0.0348,  ..., -0.0369, -0.0255, -0.0045],\n",
      "        [ 0.0028, -0.0001,  0.0339,  ..., -0.0344,  0.0208, -0.0095],\n",
      "        ...,\n",
      "        [ 0.0112,  0.0014, -0.0176,  ..., -0.0261, -0.0352, -0.0319],\n",
      "        [-0.0295,  0.0348,  0.0393,  ...,  0.0369,  0.0138,  0.0145],\n",
      "        [-0.0135, -0.0292,  0.0301,  ...,  0.0037,  0.0192,  0.0277]],\n",
      "       requires_grad=True), Parameter containing:\n",
      "tensor([ 1.6441e-03, -1.3583e-02, -3.0641e-02,  2.9874e-02,  3.6338e-02,\n",
      "        -2.2697e-02, -2.8652e-02, -1.6433e-02,  9.7309e-03,  2.5726e-03,\n",
      "        -2.2449e-02, -3.0392e-02,  3.2450e-02, -1.4147e-02,  3.3260e-02,\n",
      "         3.5526e-02,  2.6329e-02, -3.1699e-02, -2.6769e-02, -3.5672e-02,\n",
      "         1.3244e-02,  1.2590e-03, -1.7157e-02, -5.8675e-03,  1.2887e-02,\n",
      "         3.8122e-02,  1.0086e-02, -3.4728e-02, -5.4563e-03, -1.1646e-02,\n",
      "        -2.3830e-02, -9.1119e-03, -3.7418e-02,  8.8541e-03, -2.3954e-02,\n",
      "        -4.1404e-02, -3.5715e-02,  1.7851e-02,  6.2134e-03,  2.0400e-02,\n",
      "        -3.1341e-02, -2.9829e-02,  3.5331e-02, -4.5472e-03,  3.3940e-02,\n",
      "         2.2484e-02,  3.0994e-02,  3.1941e-02, -2.7329e-02, -4.1171e-02,\n",
      "         1.5691e-02, -3.6731e-02,  3.2456e-02, -3.5945e-03,  1.0042e-02,\n",
      "         3.6843e-02, -2.5558e-02, -2.0669e-02, -5.0321e-05, -2.2297e-02,\n",
      "        -2.2481e-02,  1.6676e-02,  1.3861e-02,  5.8131e-03,  2.6882e-03,\n",
      "        -4.0326e-02,  3.1215e-02,  3.5613e-03, -1.8638e-02,  9.3482e-03,\n",
      "        -4.0091e-02, -3.8651e-02,  1.1434e-02, -1.0179e-02,  2.0513e-02,\n",
      "        -1.0283e-02, -1.8294e-02, -6.4263e-03,  2.9994e-02,  3.2824e-02,\n",
      "         2.2452e-02,  1.6422e-02,  3.4259e-02,  2.0919e-02,  3.0988e-02,\n",
      "        -3.8168e-02,  8.5046e-03, -2.3769e-02, -3.4215e-02,  8.0327e-03,\n",
      "        -4.3779e-03, -1.5453e-02,  1.1210e-02,  1.6561e-02,  2.7811e-02,\n",
      "         6.6238e-03,  1.0138e-02,  3.3685e-02,  1.2839e-02,  3.3631e-02,\n",
      "        -1.6983e-03,  3.2470e-02, -2.7963e-02, -1.2319e-02, -3.6629e-02,\n",
      "         2.3358e-02, -4.0301e-02,  3.7070e-02, -3.0910e-02,  2.4775e-02,\n",
      "        -2.8422e-02,  1.1183e-02,  2.5595e-02, -2.2132e-02, -3.2260e-02,\n",
      "         3.3159e-02, -1.8340e-02,  1.2905e-02,  7.1675e-03,  1.8158e-02],\n",
      "       requires_grad=True), Parameter containing:\n",
      "tensor([[ 0.0266,  0.0068, -0.0812,  ...,  0.0506,  0.0124,  0.0040],\n",
      "        [ 0.0735,  0.0845, -0.0179,  ...,  0.0284,  0.0735,  0.0018],\n",
      "        [ 0.0849, -0.0263,  0.0841,  ..., -0.0091,  0.0074,  0.0302],\n",
      "        ...,\n",
      "        [-0.0387, -0.0562, -0.0113,  ..., -0.0085, -0.0447,  0.0492],\n",
      "        [-0.0735,  0.0027,  0.0300,  ..., -0.0574,  0.0707,  0.0629],\n",
      "        [-0.0257, -0.0896,  0.0405,  ...,  0.0872,  0.0873, -0.0274]],\n",
      "       requires_grad=True), Parameter containing:\n",
      "tensor([ 0.0769,  0.0553, -0.0325, -0.0391,  0.0257, -0.0278, -0.0383,  0.0556,\n",
      "        -0.0246, -0.0629, -0.0499,  0.0622,  0.0623, -0.0686,  0.0773, -0.0678,\n",
      "        -0.0007, -0.0559, -0.0870,  0.0133,  0.0813,  0.0009, -0.0438,  0.0822,\n",
      "         0.0310,  0.0380, -0.0575, -0.0717,  0.0636,  0.0341, -0.0520,  0.0075,\n",
      "         0.0230, -0.0679, -0.0030, -0.0108, -0.0151,  0.0854,  0.0383, -0.0844,\n",
      "        -0.0450, -0.0632, -0.0420,  0.0702,  0.0026, -0.0413, -0.0660, -0.0207,\n",
      "         0.0267, -0.0633,  0.0487,  0.0263,  0.0404, -0.0595, -0.0244,  0.0842,\n",
      "        -0.0277, -0.0587, -0.0764,  0.0637,  0.0159, -0.0795, -0.0729,  0.0664,\n",
      "        -0.0004, -0.0586,  0.0858, -0.0290,  0.0240,  0.0884,  0.0696,  0.0684,\n",
      "        -0.0632,  0.0735,  0.0569, -0.0415,  0.0703, -0.0660, -0.0911,  0.0133,\n",
      "        -0.0153, -0.0149,  0.0858, -0.0555], requires_grad=True), Parameter containing:\n",
      "tensor([[-3.9934e-02,  9.8161e-02,  9.1532e-02, -4.7168e-02,  8.7466e-02,\n",
      "          9.8474e-02, -7.3133e-02, -2.3205e-02, -4.0761e-02,  3.3940e-02,\n",
      "          9.1787e-02,  2.1161e-02,  7.5669e-02, -7.3185e-02,  9.0189e-02,\n",
      "         -3.4978e-02,  5.6372e-02,  9.8521e-02, -6.9936e-02, -1.0298e-01,\n",
      "         -9.2503e-02, -6.9565e-02,  7.4082e-03,  1.0025e-01, -3.6115e-03,\n",
      "         -4.3161e-02, -3.5283e-02,  2.9203e-02,  1.0701e-01, -5.7447e-02,\n",
      "          9.2745e-02,  1.0323e-01,  8.8668e-02, -1.0293e-01, -9.6610e-03,\n",
      "         -7.8842e-02,  8.3423e-02,  1.0331e-01,  2.0428e-02,  7.1475e-02,\n",
      "         -3.8789e-02,  9.6024e-02, -5.5524e-02, -4.1110e-02, -8.2271e-02,\n",
      "         -3.9894e-02,  8.1499e-03,  6.4848e-03, -1.4580e-02, -9.7843e-02,\n",
      "          8.5066e-02,  7.8380e-02,  4.7738e-02,  1.0855e-01, -6.8913e-02,\n",
      "         -3.4739e-02,  6.6320e-02, -3.8984e-02, -7.6128e-02,  2.6363e-02,\n",
      "          8.5072e-02, -6.2471e-02,  1.0696e-01, -8.7713e-03, -5.3779e-02,\n",
      "          9.6076e-02, -1.7670e-02, -4.0614e-02,  2.8022e-02, -7.0750e-02,\n",
      "          3.1754e-02, -1.4287e-03,  8.5844e-02,  3.6799e-02,  9.7375e-02,\n",
      "         -7.1138e-02, -4.0083e-02,  2.6616e-02, -8.0402e-02,  1.0695e-01,\n",
      "         -4.8889e-02,  9.0355e-02,  9.5691e-02, -5.8450e-03],\n",
      "        [-1.0087e-01, -7.4923e-02,  8.0262e-02, -7.3405e-02, -8.6222e-02,\n",
      "         -4.8326e-02,  1.3065e-02, -1.0018e-01,  1.6729e-02,  4.9468e-02,\n",
      "          3.1067e-02,  8.3488e-02, -8.9530e-02,  2.3167e-02,  5.8835e-02,\n",
      "          7.1741e-02, -8.1317e-03, -7.0304e-02, -5.1764e-02,  7.6677e-02,\n",
      "         -1.4963e-02, -9.6951e-03, -1.8662e-02,  4.6831e-02, -7.1043e-02,\n",
      "         -1.6586e-02, -5.5809e-02,  1.0457e-01, -1.0613e-01,  9.9728e-02,\n",
      "          4.3507e-02, -5.8916e-03, -3.3701e-02, -6.4163e-03, -1.0288e-01,\n",
      "         -9.1493e-03,  7.7582e-02, -1.0350e-01, -2.8386e-02, -3.5031e-02,\n",
      "          1.2374e-03,  4.0748e-02, -7.7260e-02, -1.0852e-01,  7.7314e-02,\n",
      "          1.7600e-02, -7.8473e-02,  1.3116e-02,  1.5880e-02,  9.9517e-02,\n",
      "         -9.7300e-02,  2.1249e-02, -9.1389e-02, -3.6704e-02, -9.8232e-02,\n",
      "          2.1475e-02,  5.7380e-02,  5.7952e-02, -2.3319e-02,  7.2119e-02,\n",
      "          9.2958e-02, -5.5508e-02,  9.2415e-02, -1.6214e-02,  1.6959e-02,\n",
      "          1.0205e-01,  9.8854e-02,  6.9778e-03,  7.9457e-02,  5.5284e-02,\n",
      "         -1.5230e-02,  9.0339e-02, -8.3364e-02,  8.1499e-02,  4.0118e-03,\n",
      "         -5.6753e-02,  1.0237e-02,  2.0093e-03, -1.3414e-02, -6.8415e-02,\n",
      "         -9.1741e-02, -2.9420e-02, -7.4260e-02,  1.0084e-01],\n",
      "        [ 7.0044e-03,  4.6873e-02, -5.3086e-02,  7.3447e-02, -4.5789e-02,\n",
      "          8.0969e-03,  8.3732e-02,  9.3370e-02, -6.4594e-02, -4.0337e-04,\n",
      "         -6.9716e-02,  5.9994e-02, -5.7119e-02,  7.4322e-02,  4.5819e-02,\n",
      "          4.8021e-02, -5.6490e-02,  8.8800e-02, -8.3976e-02, -9.1616e-02,\n",
      "          2.4769e-02,  5.8545e-02, -3.1573e-02,  1.4069e-02,  6.4925e-02,\n",
      "          3.3581e-02, -2.1688e-02,  4.0650e-02, -9.7408e-03, -5.5082e-02,\n",
      "          2.4976e-02,  9.3193e-02, -8.2640e-02,  4.2864e-02, -9.8091e-02,\n",
      "         -5.0190e-02,  9.1889e-02,  9.4700e-02, -7.4655e-02,  7.6066e-02,\n",
      "          2.0297e-03,  2.5391e-02,  1.0481e-01, -7.2401e-02, -7.0121e-02,\n",
      "          5.0981e-02, -9.5189e-02,  3.6878e-02,  1.0766e-01, -4.2452e-02,\n",
      "          7.4976e-02,  1.0716e-01,  1.2530e-02,  9.3156e-02,  5.6476e-02,\n",
      "         -9.0731e-02,  1.5317e-02, -5.6562e-02, -6.3453e-02,  9.7382e-02,\n",
      "         -7.9954e-02,  4.9086e-02, -7.9784e-03, -1.0085e-01, -5.8950e-02,\n",
      "         -4.7835e-02,  9.2313e-03,  9.2895e-02,  5.1543e-02, -1.0727e-01,\n",
      "         -9.5301e-02, -8.2107e-02, -4.1911e-02, -1.0457e-01, -1.0005e-01,\n",
      "         -6.2853e-02,  3.0268e-02, -3.0114e-02, -3.3000e-02, -6.7774e-02,\n",
      "          6.2327e-02, -3.9266e-02, -1.0316e-01,  7.8050e-02],\n",
      "        [-9.3488e-02,  5.6788e-02,  4.6244e-02, -9.1559e-04,  9.1211e-02,\n",
      "          9.5632e-02, -6.7766e-02, -5.3185e-02,  4.8990e-02,  2.8567e-02,\n",
      "          3.5945e-02, -4.2914e-02,  1.3468e-02, -1.7357e-02,  7.8899e-02,\n",
      "         -5.1853e-02,  2.0825e-02,  2.9503e-02,  2.4981e-02, -3.0559e-03,\n",
      "          5.2132e-02, -1.0084e-01,  5.6427e-02, -6.1731e-02, -9.7490e-02,\n",
      "          1.0920e-01,  3.5124e-02,  1.9476e-02,  3.0962e-02, -2.4275e-02,\n",
      "         -7.5175e-02,  1.4522e-02,  3.6079e-02,  3.3319e-02, -3.5509e-02,\n",
      "          1.0579e-01,  9.6449e-02,  6.8948e-02, -8.8069e-02, -5.3260e-02,\n",
      "          3.5189e-02,  4.6102e-02, -1.0386e-01,  4.3776e-02, -7.5476e-02,\n",
      "          8.6845e-02,  8.2386e-02, -2.6397e-02, -8.6852e-02,  3.2705e-02,\n",
      "          5.5044e-02, -6.3492e-02,  4.1923e-02, -9.7427e-02,  6.1547e-02,\n",
      "          7.5397e-02,  4.7582e-02,  9.4294e-02, -8.9632e-02,  3.3088e-02,\n",
      "          1.0221e-01,  1.0756e-01, -7.5750e-02, -9.2841e-02, -8.0987e-03,\n",
      "          7.4941e-02, -4.0340e-02, -1.0152e-01,  8.0066e-02, -9.0689e-02,\n",
      "          3.3120e-02, -9.1592e-02,  6.4778e-02,  7.2259e-02, -1.0694e-01,\n",
      "         -4.0964e-02, -1.1116e-02,  4.2703e-02,  6.3933e-02, -6.4645e-02,\n",
      "         -6.7438e-02,  2.5368e-02,  2.1055e-02,  1.0479e-01],\n",
      "        [ 1.9320e-02, -7.5850e-02,  7.4573e-02,  7.9378e-02,  3.6878e-02,\n",
      "          8.4456e-02,  1.2446e-02, -1.2597e-02,  1.9093e-02,  1.6677e-02,\n",
      "          9.4099e-02, -1.6293e-02,  1.0337e-01,  9.8869e-02,  4.8362e-02,\n",
      "          8.3230e-03,  1.1005e-02,  1.6764e-02,  5.2952e-02,  4.1832e-02,\n",
      "         -7.5216e-02,  4.7738e-02, -7.3586e-02, -1.1898e-02, -5.7475e-02,\n",
      "         -7.9814e-02,  1.0139e-01,  1.0073e-01, -8.7463e-02,  5.3695e-02,\n",
      "          8.3044e-02, -1.9295e-02,  6.5630e-02,  3.0356e-02,  7.4895e-02,\n",
      "         -4.4732e-02, -1.0127e-01, -2.8368e-02, -5.1512e-02,  9.4631e-02,\n",
      "         -8.7616e-02, -2.9459e-02,  5.0451e-02, -2.8097e-02, -2.4517e-02,\n",
      "          8.8739e-02, -5.7076e-02,  6.9967e-02, -6.4548e-02, -7.5256e-03,\n",
      "         -1.9895e-02,  8.5043e-02,  5.3302e-02,  4.4077e-02, -6.2588e-02,\n",
      "         -9.9732e-02,  4.4992e-02, -8.0783e-03,  4.7541e-03,  3.7431e-02,\n",
      "          6.8280e-02, -8.7639e-02, -9.8724e-02,  4.4772e-02, -6.5132e-02,\n",
      "         -8.8149e-02, -5.3606e-02, -9.1785e-02, -3.9668e-02, -4.9639e-02,\n",
      "         -7.2499e-02,  7.5980e-02,  2.3412e-02,  4.3380e-02,  4.2191e-02,\n",
      "         -1.0571e-01, -2.4764e-02,  7.7467e-02,  5.1208e-02,  3.7157e-02,\n",
      "         -5.9854e-02,  3.0151e-02, -4.9770e-02,  1.3127e-02],\n",
      "        [ 3.9308e-02,  1.0256e-01,  9.9221e-02,  5.4563e-02,  1.0303e-01,\n",
      "         -6.9101e-02, -2.6959e-02, -8.3756e-02,  4.3320e-02,  3.6535e-04,\n",
      "         -2.1591e-02, -8.8024e-02,  5.0412e-02, -9.8596e-02,  7.2122e-02,\n",
      "          3.7460e-02,  5.2572e-02,  2.0712e-03, -4.2979e-02, -1.0235e-01,\n",
      "          7.4116e-02,  8.9399e-02, -5.5174e-02, -7.7337e-02, -3.4145e-02,\n",
      "          9.3463e-02, -5.7904e-03,  1.0569e-01, -1.0696e-01,  8.3054e-02,\n",
      "         -4.8201e-02, -9.6014e-02, -2.8378e-02, -8.1900e-03,  6.4893e-02,\n",
      "          4.4139e-02, -1.0637e-01, -6.2484e-02, -3.6573e-02, -6.3375e-02,\n",
      "         -9.0306e-02, -4.5967e-02,  2.9238e-02,  5.6261e-02, -5.0346e-02,\n",
      "          5.7541e-03, -1.7701e-02,  1.4908e-02, -4.0908e-02,  5.0915e-02,\n",
      "         -3.2269e-02, -1.7984e-02, -1.0911e-01,  1.0160e-01, -6.8902e-02,\n",
      "          4.2036e-02, -9.1404e-02, -9.0908e-02,  7.6160e-03,  2.3022e-02,\n",
      "         -2.0452e-02, -7.1092e-02,  1.0301e-01, -6.8155e-02,  1.9520e-03,\n",
      "         -8.3242e-02, -1.8413e-02, -2.9655e-02, -9.7924e-03, -1.0834e-01,\n",
      "         -1.0385e-01, -6.3452e-02, -5.7645e-02, -8.9508e-02, -4.3484e-02,\n",
      "          4.4082e-02,  1.0077e-01,  3.6681e-02,  6.8680e-02,  6.9246e-02,\n",
      "         -5.0211e-02,  2.8373e-02, -2.9335e-02,  7.9684e-02],\n",
      "        [-8.4215e-02,  9.3287e-02, -1.0661e-01, -3.0430e-02,  5.7292e-02,\n",
      "          6.5192e-02, -7.4528e-02, -1.0463e-01,  3.9510e-02,  6.4314e-02,\n",
      "          4.5574e-02, -5.0025e-02, -7.1334e-02,  1.0046e-01, -1.0722e-01,\n",
      "         -5.1851e-03, -5.5480e-02,  9.5218e-02, -2.3669e-02, -1.5743e-02,\n",
      "         -5.0031e-02, -6.8475e-02,  2.7530e-02,  7.1871e-02, -4.1983e-02,\n",
      "         -7.8696e-02, -6.6429e-02, -1.4900e-02,  1.0114e-01,  1.2283e-02,\n",
      "         -1.5703e-02, -6.6113e-02,  7.1918e-02, -2.3421e-02,  4.6060e-02,\n",
      "          3.4068e-02,  2.7448e-02,  2.0253e-02, -3.6359e-02,  3.9606e-02,\n",
      "         -1.0513e-01, -2.6447e-02, -5.9021e-02,  6.4095e-02, -5.9443e-03,\n",
      "          3.6410e-02, -6.5395e-02, -2.2732e-02, -2.4652e-02, -3.0650e-02,\n",
      "          3.2883e-02,  1.0314e-01,  1.7705e-02,  3.4247e-02,  1.0208e-01,\n",
      "         -1.4934e-02, -1.0523e-01, -2.8889e-02, -7.4664e-02, -4.6361e-02,\n",
      "         -1.0744e-01, -5.7263e-02, -5.5941e-04, -7.7393e-02, -8.9805e-02,\n",
      "         -8.2395e-02, -6.4703e-02,  6.4325e-02,  9.9646e-02,  3.5010e-02,\n",
      "          5.6818e-02,  1.8278e-02,  1.0854e-01,  7.1333e-02, -2.3194e-02,\n",
      "         -2.1108e-02,  2.9123e-02, -1.3785e-02,  1.0076e-01, -4.2208e-02,\n",
      "         -1.4418e-02, -8.5758e-02, -6.2110e-02, -7.8428e-02],\n",
      "        [-6.7060e-02, -2.8457e-02,  4.7603e-02, -6.9292e-02, -1.0391e-01,\n",
      "         -5.2200e-02, -5.3918e-02,  8.7401e-02, -7.7055e-02, -1.9582e-03,\n",
      "          7.7241e-02, -1.6414e-02,  8.2948e-02,  4.6370e-02, -6.4869e-02,\n",
      "          4.4192e-02,  3.8681e-02,  2.1706e-02, -5.8779e-02, -1.5904e-02,\n",
      "          5.4164e-02,  9.7001e-03,  1.8866e-03,  1.7382e-02,  1.0456e-02,\n",
      "          5.5873e-02,  9.2407e-02, -6.6999e-02,  3.6080e-02,  9.1510e-02,\n",
      "          1.7711e-02,  2.8524e-02, -5.7697e-03,  3.7092e-03,  1.1897e-02,\n",
      "         -8.7988e-02,  9.6585e-02,  9.9077e-02,  2.1864e-02, -2.8366e-02,\n",
      "          1.0325e-01, -8.4962e-02, -6.4871e-02, -9.0109e-02, -5.2083e-02,\n",
      "         -1.3905e-02,  6.1631e-02, -3.2684e-02, -1.8637e-02,  2.0407e-03,\n",
      "          4.7676e-02, -6.1639e-02, -3.1974e-02,  5.1423e-02, -1.0110e-01,\n",
      "          7.3643e-03,  5.7500e-02, -4.7050e-02,  1.5949e-02, -7.6677e-02,\n",
      "         -9.3360e-02,  7.7414e-03, -1.2818e-02,  2.4211e-02, -1.4440e-02,\n",
      "          7.9718e-02, -9.2946e-02, -1.4366e-02,  1.9942e-02,  8.5581e-02,\n",
      "          5.7728e-03,  7.4083e-02, -3.5282e-02,  8.2062e-02, -5.2284e-02,\n",
      "          5.3306e-02,  1.6697e-02,  1.0436e-01, -3.0130e-02,  3.6445e-02,\n",
      "         -9.2656e-02,  2.6078e-02,  3.3858e-02, -8.5474e-02],\n",
      "        [-1.5557e-02, -4.8323e-02, -6.5154e-02,  1.7742e-02,  9.9204e-02,\n",
      "         -1.5950e-02, -9.7866e-02, -8.6425e-02, -3.5800e-04,  3.8076e-02,\n",
      "          5.0230e-02,  9.5965e-02,  5.5529e-02,  4.8459e-04, -2.7737e-02,\n",
      "         -8.4418e-02,  7.6746e-03,  7.0355e-02,  5.9377e-02, -3.9986e-02,\n",
      "          7.0803e-02, -1.6302e-02, -2.3280e-02,  1.3662e-02,  7.6363e-02,\n",
      "         -3.6671e-02,  1.0504e-01,  9.3057e-02,  2.0995e-02,  8.6378e-05,\n",
      "         -2.3636e-02,  4.6230e-02,  8.0274e-02,  1.4572e-02, -3.9009e-02,\n",
      "         -2.6704e-02, -3.2932e-02,  2.5066e-02, -6.0394e-02,  3.5408e-02,\n",
      "         -1.0489e-01, -3.1803e-02,  3.8700e-02,  3.8466e-02, -5.6586e-02,\n",
      "          6.6221e-02, -4.9377e-02, -1.9321e-03,  2.1229e-02,  1.0317e-01,\n",
      "         -7.3286e-02,  8.5892e-03,  5.1430e-02, -7.2165e-02,  9.7239e-02,\n",
      "         -6.1949e-02,  2.4107e-02, -1.0862e-01,  1.0254e-01, -6.1841e-02,\n",
      "         -9.5692e-02,  7.8457e-02,  4.0399e-02, -6.9828e-02,  2.3874e-02,\n",
      "          1.0174e-02,  3.1498e-02, -8.7603e-02, -4.9562e-02,  5.3907e-02,\n",
      "          1.8882e-02, -5.9575e-02, -6.8473e-02, -6.6565e-02,  7.9477e-02,\n",
      "         -3.1725e-02, -5.6018e-02, -5.0842e-02, -4.7015e-02, -6.4243e-02,\n",
      "         -6.2101e-02,  3.0488e-02,  1.9294e-02, -1.0691e-01],\n",
      "        [-5.3514e-02, -9.3517e-02, -3.3868e-02, -3.7401e-02, -5.9065e-02,\n",
      "          2.3767e-03,  1.0658e-01, -2.1412e-02, -3.9513e-02,  2.6493e-02,\n",
      "         -1.0470e-01, -7.8393e-04,  6.0331e-02, -2.3519e-02,  2.6815e-02,\n",
      "          8.7522e-02,  4.1393e-02, -9.9811e-03, -5.4753e-02, -9.0259e-02,\n",
      "         -3.2633e-03, -9.5691e-02,  6.0425e-02,  9.8447e-02, -7.5162e-02,\n",
      "          2.6224e-02,  9.8899e-02,  1.0361e-01, -6.2837e-02, -4.4282e-02,\n",
      "          6.8833e-02, -4.9069e-02, -5.1835e-03, -4.9206e-02,  5.7607e-02,\n",
      "         -8.1028e-02, -6.0863e-03, -6.7765e-02,  5.9898e-02, -7.2428e-02,\n",
      "         -8.0129e-02,  1.0336e-01,  5.4377e-02,  7.7039e-02, -1.0158e-01,\n",
      "          2.6571e-02, -1.3216e-02,  2.9862e-02,  6.8870e-02, -4.2026e-02,\n",
      "          5.2119e-02,  1.0894e-01, -1.1346e-03,  1.0141e-01, -1.8765e-03,\n",
      "         -3.4401e-02, -9.4569e-02,  7.4766e-02, -8.2301e-03, -6.8804e-02,\n",
      "          6.7371e-03, -4.1204e-02, -3.0352e-02,  2.3358e-02, -7.9364e-02,\n",
      "          1.0626e-01, -9.3166e-02,  4.1339e-02,  7.7853e-02,  7.3313e-02,\n",
      "         -8.7934e-02, -9.2116e-02,  7.1686e-02,  1.0248e-01,  2.8931e-02,\n",
      "         -2.8651e-02, -5.7300e-02, -9.6782e-02,  4.2559e-02,  4.8119e-02,\n",
      "         -6.9790e-02,  7.0084e-02,  9.4410e-02,  2.7608e-02]],\n",
      "       requires_grad=True), Parameter containing:\n",
      "tensor([-0.0407, -0.0559, -0.0111, -0.0833,  0.0155,  0.0615,  0.1053, -0.0459,\n",
      "        -0.0635, -0.0746], requires_grad=True)]\n",
      "10\n",
      "torch.Size([6, 1, 3, 3])\n"
     ]
    }
   ],
   "source": [
    "params = list(net.parameters())\n",
    "print(params)\n",
    "print(len(params))\n",
    "print(params[0].size())  # conv1's .weight"
   ]
  },
  {
   "cell_type": "markdown",
   "metadata": {},
   "source": [
    "Let's try a random 32x32 input.\n",
    "Note: expected input size of this net (LeNet) is 32x32. To use this net on\n",
    "the MNIST dataset, please resize the images from the dataset to 32x32."
   ]
  },
  {
   "cell_type": "code",
   "execution_count": 36,
   "metadata": {},
   "outputs": [
    {
     "name": "stdout",
     "output_type": "stream",
     "text": [
      "tensor([[ 0.1477, -0.0619, -0.0337,  0.0164, -0.0323,  0.0206,  0.0412,  0.0436,\n",
      "         -0.1437, -0.1006]], grad_fn=<AddmmBackward0>)\n"
     ]
    }
   ],
   "source": [
    "input = torch.randn(1, 1, 32, 32)\n",
    "out = net(input)\n",
    "print(out)"
   ]
  },
  {
   "cell_type": "markdown",
   "metadata": {},
   "source": [
    "Zero the gradient buffers of all parameters and backprops with random\n",
    "gradients:"
   ]
  },
  {
   "cell_type": "code",
   "execution_count": 37,
   "metadata": {},
   "outputs": [],
   "source": [
    "net.zero_grad()\n",
    "out.backward(torch.randn(1, 10)) # on met dans backward la valeur y et on dérive alors par rapport à la valeur estimée"
   ]
  },
  {
   "cell_type": "markdown",
   "metadata": {},
   "source": [
    "### NOTE: \n",
    "`torch.nn` only supports mini-batches. The entire `torch.nn`\n",
    "    package only supports inputs that are a mini-batch of samples, and not\n",
    "    a single sample. \n",
    "    \n",
    "For example, `nn.Conv2d` will take in a 4D Tensor of `nSamples x nChannels x Height x Width`.\n",
    "\n",
    "If you have a single sample, just use `input.unsqueeze(0)` to add a fake batch dimension.\n",
    "    __________________________________________________________________________________________________\n",
    "\n",
    "Before proceeding further, let's recap all the classes you’ve seen so far.\n",
    "\n",
    "**Recap:**\n",
    "  -  ``torch.Tensor`` - A *multi-dimensional array* with support for autograd\n",
    "     operations like ``backward()``. Also *holds the gradient* w.r.t. the\n",
    "     tensor.\n",
    "  -  ``nn.Module`` - Neural network module. *Convenient way of\n",
    "     encapsulating parameters*, with helpers for moving them to GPU,\n",
    "     exporting, loading, etc.\n",
    "  -  ``nn.Parameter`` - A kind of Tensor, that is *automatically\n",
    "     registered as a parameter when assigned as an attribute to a*\n",
    "     ``Module``.\n",
    "  -  ``autograd.Function`` - Implements *forward and backward definitions\n",
    "     of an autograd operation*. Every ``Tensor`` operation creates at\n",
    "     least a single ``Function`` node that connects to functions that\n",
    "     created a ``Tensor`` and *encodes its history*.\n",
    "\n",
    "**At this point, we covered:**\n",
    "  -  Defining a neural network\n",
    "  -  Processing inputs and calling backward\n",
    "\n",
    "**Still Left:**\n",
    "  -  Computing the loss\n",
    "  -  Updating the weights of the network\n",
    "\n",
    "## Loss Function\n",
    "\n",
    "A loss function takes the (output, target) pair of inputs, and computes a\n",
    "value that estimates how far away the output is from the target.\n",
    "\n",
    "There are several different\n",
    "[loss functions] (https://pytorch.org/docs/nn.html#loss-functions)  under the\n",
    "nn package.\n",
    "A simple loss is: ``nn.MSELoss`` which computes the mean-squared error\n",
    "between the input and the target.\n",
    "\n",
    "For example:\n",
    "\n"
   ]
  },
  {
   "cell_type": "code",
   "execution_count": 38,
   "metadata": {},
   "outputs": [
    {
     "name": "stdout",
     "output_type": "stream",
     "text": [
      "tensor(1.5584, grad_fn=<MseLossBackward0>)\n"
     ]
    }
   ],
   "source": [
    "output = net(input)\n",
    "target = torch.randn(10)  # a dummy target, for example\n",
    "target = target.view(1, -1)  # make it the same shape as output\n",
    "criterion = nn.MSELoss()\n",
    "\n",
    "loss = criterion(output, target)\n",
    "print(loss)"
   ]
  },
  {
   "cell_type": "markdown",
   "metadata": {},
   "source": [
    "Now, if you follow ``loss`` in the backward direction, using its\n",
    "``.grad_fn`` attribute, you will see a graph of computations that looks\n",
    "like this:\n",
    "\n",
    "::\n",
    "\n",
    "    input -> conv2d -> relu -> maxpool2d -> conv2d -> relu -> maxpool2d\n",
    "          -> view -> linear -> relu -> linear -> relu -> linear\n",
    "          -> MSELoss\n",
    "          -> loss\n",
    "\n",
    "So, when we call ``loss.backward()``, the whole graph is differentiated\n",
    "w.r.t. the loss, and all Tensors in the graph that has ``requires_grad=True``\n",
    "will have their ``.grad`` Tensor accumulated with the gradient.\n",
    "\n",
    "For illustration, let us follow a few steps backward:"
   ]
  },
  {
   "cell_type": "code",
   "execution_count": 39,
   "metadata": {},
   "outputs": [
    {
     "name": "stdout",
     "output_type": "stream",
     "text": [
      "<MseLossBackward0 object at 0x7f585948b700>\n",
      "<AddmmBackward0 object at 0x7f585948ad10>\n",
      "<AccumulateGrad object at 0x7f585948b700>\n"
     ]
    }
   ],
   "source": [
    "print(loss.grad_fn)  # MSELoss\n",
    "print(loss.grad_fn.next_functions[0][0])  # Linear\n",
    "print(loss.grad_fn.next_functions[0][0].next_functions[0][0])  # ReLU"
   ]
  },
  {
   "cell_type": "markdown",
   "metadata": {},
   "source": [
    "Backprop\n",
    "--------\n",
    "To backpropagate the error all we have to do is to ``loss.backward()``.\n",
    "You need to clear the existing gradients though, else gradients will be\n",
    "accumulated to existing gradients.\n",
    "\n",
    "\n",
    "Now we shall call ``loss.backward()``, and have a look at conv1's bias\n",
    "gradients before and after the backward.\n"
   ]
  },
  {
   "cell_type": "code",
   "execution_count": 40,
   "metadata": {},
   "outputs": [
    {
     "name": "stdout",
     "output_type": "stream",
     "text": [
      "conv1.bias.grad before backward\n",
      "tensor([0., 0., 0., 0., 0., 0.])\n",
      "conv1.bias.grad after backward\n",
      "tensor([-0.0017, -0.0005,  0.0160, -0.0019,  0.0104,  0.0077])\n"
     ]
    }
   ],
   "source": [
    "net.zero_grad()     # zeroes the gradient buffers of all parameters\n",
    "\n",
    "print('conv1.bias.grad before backward')\n",
    "print(net.conv1.bias.grad)\n",
    "\n",
    "loss.backward()\n",
    "\n",
    "print('conv1.bias.grad after backward')\n",
    "print(net.conv1.bias.grad)"
   ]
  },
  {
   "cell_type": "markdown",
   "metadata": {},
   "source": [
    "Now, we have seen how to use loss functions.\n",
    "\n",
    "**Read Later:**\n",
    "\n",
    "  The neural network package contains various modules and loss functions\n",
    "  that form the building blocks of deep neural networks. A full list with\n",
    "  documentation is [here] (https://pytorch.org/docs/nn).\n",
    "\n",
    "**The only thing left to learn is:**\n",
    "\n",
    "  - Updating the weights of the network\n",
    "\n",
    "Update the weights\n",
    "------------------\n",
    "The simplest update rule used in practice is the Stochastic Gradient\n",
    "Descent (SGD):\n",
    "\n",
    "\\begin{align}weight = weight - learningRate * gradient\\end{align}\n",
    "\n",
    "We can implement this using simple Python code:\n",
    "\n",
    "\n",
    "    learning_rate = 0.01\n",
    "    for f in net.parameters():\n",
    "        f.data.sub_(f.grad.data * learning_rate)\n",
    "\n",
    "However, as you use neural networks, you want to use various different\n",
    "update rules such as SGD, Nesterov-SGD, Adam, RMSProp, etc.\n",
    "To enable this, we built a small package: ``torch.optim`` that\n",
    "implements all these methods. Using it is very simple:"
   ]
  },
  {
   "cell_type": "code",
   "execution_count": 41,
   "metadata": {},
   "outputs": [],
   "source": [
    "import torch.optim as optim\n",
    "\n",
    "# create your optimizer\n",
    "optimizer = optim.SGD(net.parameters(), lr=0.01) \n",
    "\n",
    "# in your training loop:\n",
    "optimizer.zero_grad()   # zero the gradient buffers\n",
    "output = net(input)\n",
    "loss = criterion(output, target)\n",
    "loss.backward()\n",
    "optimizer.step()    # Does the update"
   ]
  },
  {
   "cell_type": "markdown",
   "metadata": {},
   "source": [
    "You have seen how to define neural networks, compute loss and make updates to the weights of the network.\n",
    "One thing is still missing:\n",
    "\n",
    "## Input Data\n",
    "\n",
    "\n",
    "Generally, when you have to deal with image, text, audio or video data,\n",
    "you can use standard python packages that load data into a numpy array.\n",
    "Then you can convert this array into a ``torch.*Tensor``.\n",
    "\n",
    "-  For images, packages such as Pillow, OpenCV are useful\n",
    "-  For audio, packages such as scipy and librosa\n",
    "-  For text, either raw Python or Cython based loading, or NLTK and\n",
    "   SpaCy are useful\n",
    "\n",
    "Specifically for vision, we have created a package called\n",
    "``torchvision``, that has data loaders for common datasets such as\n",
    "Imagenet, CIFAR10, MNIST, etc. and data transformers for images, viz.,\n",
    "``torchvision.datasets`` and ``torch.utils.data.DataLoader``.\n",
    "\n",
    "This provides a huge convenience and avoids writing boilerplate code.\n",
    "\n",
    "For this tutorial, we will use the CIFAR10 dataset.\n",
    "It has the classes: ‘airplane’, ‘automobile’, ‘bird’, ‘cat’, ‘deer’,\n",
    "‘dog’, ‘frog’, ‘horse’, ‘ship’, ‘truck’. The images in CIFAR-10 are of\n",
    "size 3x32x32, i.e. 3-channel color images of 32x32 pixels in size.\n",
    "\n",
    "This is it. You are finally ready to:"
   ]
  },
  {
   "cell_type": "markdown",
   "metadata": {},
   "source": [
    "# 4. Train a Classifier!\n",
    "____________________________________________________________________________________________________\n",
    "We will do the following steps in order:\n",
    "\n",
    "a. Load and normalizing the CIFAR10 training and test datasets using\n",
    "   ``torchvision``\n",
    "\n",
    "b. Define a Convolutional Neural Network\n",
    "\n",
    "c. Define a loss function\n",
    "\n",
    "d. Train the network on the training data\n",
    "\n",
    "e. Test the network on the test data\n",
    "\n",
    "\n",
    "## a. Loading and normalizing CIFAR10\n",
    "\n",
    "\n",
    "Using ``torchvision``, it’s extremely easy to load CIFAR10.\n",
    "\n"
   ]
  },
  {
   "cell_type": "code",
   "execution_count": 42,
   "metadata": {},
   "outputs": [],
   "source": [
    "import torch\n",
    "import torchvision\n",
    "import torchvision.transforms as transforms"
   ]
  },
  {
   "cell_type": "markdown",
   "metadata": {},
   "source": [
    "The output of torchvision datasets are PILImage images of range `[0, 1]`.\n",
    "We transform them to Tensors of normalized range `[-1, 1]`.\n"
   ]
  },
  {
   "cell_type": "code",
   "execution_count": 43,
   "metadata": {},
   "outputs": [
    {
     "name": "stdout",
     "output_type": "stream",
     "text": [
      "Downloading https://www.cs.toronto.edu/~kriz/cifar-10-python.tar.gz to ./data/cifar-10-python.tar.gz\n"
     ]
    },
    {
     "name": "stderr",
     "output_type": "stream",
     "text": [
      "100.0%\n"
     ]
    },
    {
     "name": "stdout",
     "output_type": "stream",
     "text": [
      "Extracting ./data/cifar-10-python.tar.gz to ./data\n",
      "Files already downloaded and verified\n"
     ]
    }
   ],
   "source": [
    "transform = transforms.Compose(\n",
    "    [transforms.ToTensor(),\n",
    "     transforms.Normalize((0.5, 0.5, 0.5), (0.5, 0.5, 0.5))])\n",
    "\n",
    "trainset = torchvision.datasets.CIFAR10(root='./data', train=True,\n",
    "                                        download=True, transform=transform)\n",
    "trainloader = torch.utils.data.DataLoader(trainset, batch_size=4,\n",
    "                                          shuffle=True, num_workers=2)\n",
    "\n",
    "testset = torchvision.datasets.CIFAR10(root='./data', train=False,\n",
    "                                       download=True, transform=transform)\n",
    "testloader = torch.utils.data.DataLoader(testset, batch_size=4,\n",
    "                                         shuffle=False, num_workers=2)\n",
    "\n",
    "classes = ('plane', 'car', 'bird', 'cat',\n",
    "           'deer', 'dog', 'frog', 'horse', 'ship', 'truck')"
   ]
  },
  {
   "cell_type": "markdown",
   "metadata": {},
   "source": [
    "### NOTE:\n",
    "If running on Windows you get a BrokenPipeError, try setting\n",
    "    the num_worker of `torch.utils.data.DataLoader()` to 0.\n",
    "    _______________________________________________________________________\n",
    "\n",
    "Let us show some of the training images, for fun.\n"
   ]
  },
  {
   "cell_type": "code",
   "execution_count": 44,
   "metadata": {},
   "outputs": [
    {
     "ename": "AttributeError",
     "evalue": "'_MultiProcessingDataLoaderIter' object has no attribute 'next'",
     "output_type": "error",
     "traceback": [
      "\u001b[0;31m---------------------------------------------------------------------------\u001b[0m",
      "\u001b[0;31mAttributeError\u001b[0m                            Traceback (most recent call last)",
      "\u001b[0;32m/tmp/ipykernel_24010/1732651336.py\u001b[0m in \u001b[0;36m<module>\u001b[0;34m\u001b[0m\n\u001b[1;32m     14\u001b[0m \u001b[0;31m# get some random training images and check the size\u001b[0m\u001b[0;34m\u001b[0m\u001b[0;34m\u001b[0m\u001b[0m\n\u001b[1;32m     15\u001b[0m \u001b[0mdataiter\u001b[0m \u001b[0;34m=\u001b[0m \u001b[0miter\u001b[0m\u001b[0;34m(\u001b[0m\u001b[0mtrainloader\u001b[0m\u001b[0;34m)\u001b[0m\u001b[0;34m\u001b[0m\u001b[0;34m\u001b[0m\u001b[0m\n\u001b[0;32m---> 16\u001b[0;31m \u001b[0mimages\u001b[0m\u001b[0;34m,\u001b[0m \u001b[0mlabels\u001b[0m \u001b[0;34m=\u001b[0m \u001b[0mdataiter\u001b[0m\u001b[0;34m.\u001b[0m\u001b[0mnext\u001b[0m\u001b[0;34m(\u001b[0m\u001b[0;34m)\u001b[0m\u001b[0;34m\u001b[0m\u001b[0;34m\u001b[0m\u001b[0m\n\u001b[0m\u001b[1;32m     17\u001b[0m \u001b[0mprint\u001b[0m\u001b[0;34m(\u001b[0m\u001b[0;34m'batch size:'\u001b[0m\u001b[0;34m,\u001b[0m \u001b[0mimages\u001b[0m\u001b[0;34m.\u001b[0m\u001b[0msize\u001b[0m\u001b[0;34m(\u001b[0m\u001b[0;36m0\u001b[0m\u001b[0;34m)\u001b[0m\u001b[0;34m)\u001b[0m\u001b[0;34m\u001b[0m\u001b[0;34m\u001b[0m\u001b[0m\n\u001b[1;32m     18\u001b[0m \u001b[0mprint\u001b[0m\u001b[0;34m(\u001b[0m\u001b[0;34m'color channels :'\u001b[0m\u001b[0;34m,\u001b[0m \u001b[0mimages\u001b[0m\u001b[0;34m.\u001b[0m\u001b[0msize\u001b[0m\u001b[0;34m(\u001b[0m\u001b[0;36m1\u001b[0m\u001b[0;34m)\u001b[0m\u001b[0;34m)\u001b[0m\u001b[0;34m\u001b[0m\u001b[0;34m\u001b[0m\u001b[0m\n",
      "\u001b[0;31mAttributeError\u001b[0m: '_MultiProcessingDataLoaderIter' object has no attribute 'next'"
     ]
    }
   ],
   "source": [
    "import matplotlib.pyplot as plt\n",
    "import numpy as np\n",
    "\n",
    "# functions to show an image\n",
    "\n",
    "\n",
    "def imshow(img):\n",
    "    img = img / 2 + 0.5     # unnormalize\n",
    "    npimg = img.numpy()\n",
    "    plt.imshow(np.transpose(npimg, (1, 2, 0)))\n",
    "    plt.show()\n",
    "\n",
    "\n",
    "# get some random training images and check the size\n",
    "dataiter = iter(trainloader)\n",
    "images, labels = dataiter.next()\n",
    "print('batch size:', images.size(0))\n",
    "print('color channels :', images.size(1))\n",
    "print('Image size:'+ str(images.size(2))+ 'x'+ str(images.size(3)))\n",
    "\n",
    "# show images\n",
    "imshow(torchvision.utils.make_grid(images))\n",
    "# print labels\n",
    "print(' '.join('%5s\\t' % classes[labels[j]] for j in range(4)))"
   ]
  },
  {
   "cell_type": "markdown",
   "metadata": {},
   "source": [
    "## b. Define a Convolutional Neural Network\n",
    "\n",
    "Copy the neural network from the Neural Networks section before and modify it to\n",
    "take 3-channel (color) images, instead of 1-channel (black and white) images as it was defined.\n",
    "\n",
    "### NOTE:\n",
    "Pay attention to the in/out features dimensions, especially at the transition between a Convolution (Conv) and Fully connected (fc) linear layer\n",
    "\n",
    "**Recap:**\n",
    "\n",
    "Formula to get the output features size `h_out` of a 2D Conv layer given `h_in` (size features input), `k` (convolutional kernel size), `p` (zero padding), and `s` (stride) (more details in [Conv2D documentation](https://pytorch.org/docs/stable/generated/torch.nn.Conv2d.html#conv2d))\n",
    "\n",
    "\\begin{align}h_{out}=\\frac{h_{in} - 2*p - k}{s} + 1 \\end{align}\n",
    "\n",
    "Remember that the feature size is divided by the MaxPool2d kernel size when passing through a 2D max pooling layer!\n",
    "\n",
    "_________________________________________________________________________________________________________________________"
   ]
  },
  {
   "cell_type": "code",
   "execution_count": null,
   "metadata": {},
   "outputs": [],
   "source": [
    "\n",
    "## TO BE COMPLETED !!!\n",
    "import torch.nn as nn\n",
    "import torch.nn.functional as F\n",
    "\n"
   ]
  },
  {
   "cell_type": "markdown",
   "metadata": {},
   "source": [
    "## c. Define a Loss function and optimizer\n",
    "\n",
    "Let's use a Classification Cross-Entropy loss and SGD with momentum.\n"
   ]
  },
  {
   "cell_type": "code",
   "execution_count": null,
   "metadata": {},
   "outputs": [],
   "source": [
    "# TO BE COMPLETED !!!\n",
    "import torch.optim as optim\n"
   ]
  },
  {
   "cell_type": "markdown",
   "metadata": {},
   "source": [
    "## d. Train the network\n",
    "\n",
    "This is when things start to get interesting.\n",
    "We simply have to loop over our data iterator, and feed the inputs to the\n",
    "network and optimize. In this tutorial we will consider a small number of iterations over the dataset `n_epochs` \n"
   ]
  },
  {
   "cell_type": "code",
   "execution_count": null,
   "metadata": {},
   "outputs": [],
   "source": [
    "n_epochs=2\n",
    "\n",
    "for epoch in range(n_epochs):  # loop over the dataset multiple times\n",
    "\n",
    "    running_loss = 0.0\n",
    "    for i, data in enumerate(trainloader, 0):\n",
    "        # get the inputs; data is a list of [inputs, labels]\n",
    "        inputs, labels = data\n",
    "\n",
    "        # zero the parameter gradients\n",
    "        optimizer.zero_grad()\n",
    "\n",
    "        # forward + backward + optimize\n",
    "        outputs = net(inputs)\n",
    "        loss = criterion(outputs, labels)\n",
    "        loss.backward()\n",
    "        optimizer.step()\n",
    "\n",
    "        # print statistics\n",
    "        running_loss += loss.item()\n",
    "        if i % 2000 == 1999:    # print every 2000 mini-batches\n",
    "            print('[%d, %5d] loss: %.3f' %\n",
    "                  (epoch + 1, i + 1, running_loss / 2000))\n",
    "            running_loss = 0.0\n",
    "\n",
    "print('Finished Training')"
   ]
  },
  {
   "cell_type": "markdown",
   "metadata": {},
   "source": [
    "Let's quickly save our trained model (see [here] (https://pytorch.org/docs/stable/notes/serialization.html) for more details on saving PyTorch models)."
   ]
  },
  {
   "cell_type": "code",
   "execution_count": null,
   "metadata": {},
   "outputs": [],
   "source": [
    "PATH = './cifar_net.pth'\n",
    "torch.save(net.state_dict(), PATH)"
   ]
  },
  {
   "cell_type": "markdown",
   "metadata": {},
   "source": [
    "## e. Test the network on the test data\n",
    "\n",
    "\n",
    "We have trained the network for `n_epochs` passes over the training dataset.\n",
    "But we need to check if the network has learnt anything at all.\n",
    "\n",
    "We will check this by predicting the class label that the neural network\n",
    "outputs, and checking it against the ground-truth. If the prediction is\n",
    "correct, we add the sample to the list of correct predictions.\n",
    "\n",
    "Okay, first step. Let us display an image from the test set to get familiar.\n",
    "\n"
   ]
  },
  {
   "cell_type": "code",
   "execution_count": null,
   "metadata": {},
   "outputs": [],
   "source": [
    "dataiter = iter(testloader)\n",
    "images, labels = dataiter.next()\n",
    "\n",
    "# print images\n",
    "imshow(torchvision.utils.make_grid(images))\n",
    "print('GroundTruth: ', ' '.join('%5s' % classes[labels[j]] for j in range(4)))"
   ]
  },
  {
   "cell_type": "markdown",
   "metadata": {},
   "source": [
    "Next, let's load back in our saved model (note: saving and re-loading the model\n",
    "wasn't necessary here, we only did it to illustrate how to do so):\n"
   ]
  },
  {
   "cell_type": "code",
   "execution_count": null,
   "metadata": {},
   "outputs": [],
   "source": [
    "net = Net()\n",
    "net.load_state_dict(torch.load(PATH))"
   ]
  },
  {
   "cell_type": "markdown",
   "metadata": {},
   "source": [
    "Okay, now let us see what the neural network thinks these examples above are.\n",
    "\n",
    "The outputs are energies for the 10 classes.\n",
    "The higher the energy for a class, the more the network\n",
    "thinks that the image is of the particular class.\n",
    "So, let's get the index of the highest energy:\n"
   ]
  },
  {
   "cell_type": "code",
   "execution_count": null,
   "metadata": {},
   "outputs": [],
   "source": [
    "outputs = net(images)\n",
    "\n",
    "_, predicted = torch.max(outputs, 1)\n",
    "\n",
    "print('Predicted: ', ' '.join('%5s' % classes[predicted[j]]\n",
    "                              for j in range(4)))"
   ]
  },
  {
   "cell_type": "markdown",
   "metadata": {},
   "source": [
    "Let us look at how the network performs on the whole dataset."
   ]
  },
  {
   "cell_type": "code",
   "execution_count": null,
   "metadata": {},
   "outputs": [],
   "source": [
    "correct = 0\n",
    "total = 0\n",
    "with torch.no_grad():  # torch.no_grad for TESTING\n",
    "    for data in testloader:\n",
    "        images, labels = data\n",
    "        outputs = net(images)\n",
    "        _, predicted = torch.max(outputs.data, 1)\n",
    "        total += labels.size(0)\n",
    "        correct += (predicted == labels).sum().item()\n",
    "\n",
    "print('Accuracy of the network on the 10000 test images: %d %%' % (\n",
    "    100 * correct / total))"
   ]
  },
  {
   "cell_type": "markdown",
   "metadata": {},
   "source": [
    "That looks way better than chance, which is 10% accuracy (randomly picking\n",
    "a class out of 10 classes).\n",
    "Seems like the network learnt something.\n",
    "\n",
    "Hmmm, what are the classes that performed well, and the classes that did\n",
    "not perform well:"
   ]
  },
  {
   "cell_type": "code",
   "execution_count": null,
   "metadata": {},
   "outputs": [],
   "source": [
    "class_correct = list(0. for i in range(10))\n",
    "class_total = list(0. for i in range(10))\n",
    "with torch.no_grad():\n",
    "    for data in testloader:\n",
    "        images, labels = data\n",
    "        outputs = net(images)\n",
    "        _, predicted = torch.max(outputs, 1)\n",
    "        c = (predicted == labels).squeeze()\n",
    "        for i in range(4):\n",
    "            label = labels[i]\n",
    "            class_correct[label] += c[i].item()\n",
    "            class_total[label] += 1\n",
    "\n",
    "\n",
    "for i in range(10):\n",
    "    print('Accuracy of %5s : %2d %%' % (\n",
    "        classes[i], 100 * class_correct[i] / class_total[i]))"
   ]
  },
  {
   "cell_type": "markdown",
   "metadata": {},
   "source": [
    "Okay, so what next?\n",
    "\n",
    "How do we run these neural networks on the GPU?\n",
    "\n",
    "### Training on GPU\n",
    "----------------\n",
    "Just like how you transfer a Tensor onto the GPU, you transfer the neural\n",
    "net onto the GPU.\n",
    "\n",
    "Let's first define our device as the first visible cuda device if we have\n",
    "CUDA available:\n"
   ]
  },
  {
   "cell_type": "code",
   "execution_count": null,
   "metadata": {},
   "outputs": [],
   "source": [
    "device = torch.device(\"cuda:0\" if torch.cuda.is_available() else \"cpu\")\n",
    "\n",
    "# Assuming that we are on a CUDA machine, this should print a CUDA device:\n",
    "\n",
    "print(device)"
   ]
  },
  {
   "cell_type": "markdown",
   "metadata": {},
   "source": [
    "The rest of this section assumes that ``device`` is a CUDA device.\n",
    "\n",
    "Then these methods will recursively go over all modules and convert their\n",
    "parameters and buffers to CUDA tensors:\n",
    "\n",
    ".. code:: python\n",
    "\n",
    "    net.to(device)\n",
    "\n",
    "\n",
    "Remember that you will have to send the inputs and targets at every step\n",
    "to the GPU too:\n",
    "\n",
    ".. code:: python\n",
    "\n",
    "        inputs, labels = data[0].to(device), data[1].to(device)\n",
    "\n",
    "Why dont I notice MASSIVE speedup compared to CPU? Because your network\n",
    "is really small.\n",
    "\n",
    "## This is the end of the Tutorial!\n",
    "\n",
    "**Goals achieved**:\n",
    "\n",
    "- Understanding PyTorch's Tensor library and neural networks at a high level.\n",
    "- Train a small neural network to classify images\n"
   ]
  }
 ],
 "metadata": {
  "kernelspec": {
   "display_name": "Python 3 (ipykernel)",
   "language": "python",
   "name": "python3"
  },
  "language_info": {
   "codemirror_mode": {
    "name": "ipython",
    "version": 3
   },
   "file_extension": ".py",
   "mimetype": "text/x-python",
   "name": "python",
   "nbconvert_exporter": "python",
   "pygments_lexer": "ipython3",
   "version": "3.10.6"
  }
 },
 "nbformat": 4,
 "nbformat_minor": 1
}
